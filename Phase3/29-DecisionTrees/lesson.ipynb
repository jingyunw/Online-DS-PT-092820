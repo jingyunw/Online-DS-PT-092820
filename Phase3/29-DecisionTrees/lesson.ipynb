{
 "cells": [
  {
   "cell_type": "code",
   "execution_count": 1,
   "metadata": {
    "ExecuteTime": {
     "end_time": "2021-03-01T22:26:13.903970Z",
     "start_time": "2021-03-01T22:26:13.560755Z"
    }
   },
   "outputs": [],
   "source": [
    "import pandas as pd\n",
    "import numpy as np"
   ]
  },
  {
   "cell_type": "markdown",
   "metadata": {},
   "source": [
    "# Decision Trees\n",
    "\n",
    "**Decision Tree** is a popular supervised learning algorithm known for its high interpretability. Decision Tree models are considered to have low computational cost in comparison to many other algorithms, but Decision Trees are [non parametric](https://sebastianraschka.com/faq/docs/parametric_vs_nonparametric.html) which means their [computational cost](https://www.thekerneltrip.com/machine/learning/computational-complexity-learning-algorithms/) grows exponentially as the size of the dataset increases."
   ]
  },
  {
   "cell_type": "markdown",
   "metadata": {},
   "source": [
    "## Pros & Cons"
   ]
  },
  {
   "cell_type": "markdown",
   "metadata": {},
   "source": [
    "### Pros"
   ]
  },
  {
   "cell_type": "markdown",
   "metadata": {},
   "source": [
    "- Easy to explain and visualize\n",
    "- Irrelevant features will not be used by the model (built in feature selection)\n",
    "    - Decision Trees can be used to identify the predictive power of features with non-linear relationships! More [here](https://towardsdatascience.com/rip-correlation-introducing-the-predictive-power-score-3d90808b9598)\n",
    "- Preprocessing needs are minimal\n",
    "    - Scaling doesn't have a high impact on results.\n",
    "    - Multicollinearity doesn't impact results.\n",
    "    - Outliers have a low impact on results.\n",
    "- Very fast prediction speed"
   ]
  },
  {
   "cell_type": "markdown",
   "metadata": {},
   "source": [
    "### Cons"
   ]
  },
  {
   "cell_type": "markdown",
   "metadata": {
    "ExecuteTime": {
     "end_time": "2021-03-01T17:51:28.078778Z",
     "start_time": "2021-03-01T17:51:28.075539Z"
    }
   },
   "source": [
    "- High variability (Easily overfits to data)\n",
    "- Training time increases exponentially as sample size increases."
   ]
  },
  {
   "cell_type": "markdown",
   "metadata": {},
   "source": [
    "### Pro + Con"
   ]
  },
  {
   "cell_type": "markdown",
   "metadata": {},
   "source": [
    "- Decision Trees have a lot of tuning options (hyper parameters)\n",
    "    - Pro\n",
    "        - Models can be highly customizable and optimized!\n",
    "    - Con\n",
    "        - There is a learning curve to using these tuning options. "
   ]
  },
  {
   "cell_type": "markdown",
   "metadata": {},
   "source": [
    "## What is decision tree?"
   ]
  },
  {
   "cell_type": "markdown",
   "metadata": {},
   "source": [
    "A decision tree filters the data according to a series of `if` and `else` statements. \n",
    "\n",
    "<img src=\"simple_example.png\" style=\"height:300px;\">\n",
    "\n",
    "Above is an extremely simple example of a decision tree, let's look at an example that is a little more complicated. \n",
    "\n",
    "**Say we have an unorganized drawer of pens and pencils. The pens and pencils are made with the following materials:**\n",
    "\n",
    "<img src=\"writing_utensils.png\" style=\"width:600px;\">\n",
    "\n",
    "In the cell below, we import data for this drawer:\n",
    "> For the type column, 0 = pencil and 1 = pen"
   ]
  },
  {
   "cell_type": "code",
   "execution_count": 2,
   "metadata": {
    "ExecuteTime": {
     "end_time": "2021-03-01T22:26:13.926153Z",
     "start_time": "2021-03-01T22:26:13.909429Z"
    }
   },
   "outputs": [
    {
     "data": {
      "text/html": [
       "<div>\n",
       "<style scoped>\n",
       "    .dataframe tbody tr th:only-of-type {\n",
       "        vertical-align: middle;\n",
       "    }\n",
       "\n",
       "    .dataframe tbody tr th {\n",
       "        vertical-align: top;\n",
       "    }\n",
       "\n",
       "    .dataframe thead th {\n",
       "        text-align: right;\n",
       "    }\n",
       "</style>\n",
       "<table border=\"1\" class=\"dataframe\">\n",
       "  <thead>\n",
       "    <tr style=\"text-align: right;\">\n",
       "      <th></th>\n",
       "      <th>wood</th>\n",
       "      <th>metal</th>\n",
       "      <th>plastic</th>\n",
       "      <th>has_cap</th>\n",
       "      <th>type</th>\n",
       "    </tr>\n",
       "  </thead>\n",
       "  <tbody>\n",
       "    <tr>\n",
       "      <th>0</th>\n",
       "      <td>0</td>\n",
       "      <td>1</td>\n",
       "      <td>0</td>\n",
       "      <td>0</td>\n",
       "      <td>1</td>\n",
       "    </tr>\n",
       "    <tr>\n",
       "      <th>1</th>\n",
       "      <td>0</td>\n",
       "      <td>1</td>\n",
       "      <td>0</td>\n",
       "      <td>0</td>\n",
       "      <td>1</td>\n",
       "    </tr>\n",
       "    <tr>\n",
       "      <th>2</th>\n",
       "      <td>1</td>\n",
       "      <td>0</td>\n",
       "      <td>0</td>\n",
       "      <td>0</td>\n",
       "      <td>0</td>\n",
       "    </tr>\n",
       "    <tr>\n",
       "      <th>3</th>\n",
       "      <td>0</td>\n",
       "      <td>1</td>\n",
       "      <td>0</td>\n",
       "      <td>0</td>\n",
       "      <td>1</td>\n",
       "    </tr>\n",
       "    <tr>\n",
       "      <th>4</th>\n",
       "      <td>0</td>\n",
       "      <td>0</td>\n",
       "      <td>1</td>\n",
       "      <td>1</td>\n",
       "      <td>1</td>\n",
       "    </tr>\n",
       "  </tbody>\n",
       "</table>\n",
       "</div>"
      ],
      "text/plain": [
       "   wood  metal  plastic  has_cap  type\n",
       "0     0      1        0        0     1\n",
       "1     0      1        0        0     1\n",
       "2     1      0        0        0     0\n",
       "3     0      1        0        0     1\n",
       "4     0      0        1        1     1"
      ]
     },
     "execution_count": 2,
     "metadata": {},
     "output_type": "execute_result"
    }
   ],
   "source": [
    "utensils = pd.read_csv('writing_utensils.csv')\n",
    "utensils.head()"
   ]
  },
  {
   "cell_type": "markdown",
   "metadata": {},
   "source": [
    "Whenever we are doing a classification problem, one of the first things we should check is the distribution of the classification column. We can do this by running `.value_counts()` on this column."
   ]
  },
  {
   "cell_type": "code",
   "execution_count": 3,
   "metadata": {
    "ExecuteTime": {
     "end_time": "2021-03-01T22:26:13.972149Z",
     "start_time": "2021-03-01T22:26:13.938390Z"
    }
   },
   "outputs": [
    {
     "data": {
      "text/plain": [
       "0    0.52\n",
       "1    0.48\n",
       "Name: type, dtype: float64"
      ]
     },
     "execution_count": 3,
     "metadata": {},
     "output_type": "execute_result"
    }
   ],
   "source": [
    "utensils.type.value_counts(normalize=True)"
   ]
  },
  {
   "cell_type": "markdown",
   "metadata": {},
   "source": [
    "The data is very close to evenly split. That's a good thing!"
   ]
  },
  {
   "cell_type": "markdown",
   "metadata": {},
   "source": [
    "If we group by `type` we can look at the joint probabilities for pens and pencils:"
   ]
  },
  {
   "cell_type": "code",
   "execution_count": 4,
   "metadata": {
    "ExecuteTime": {
     "end_time": "2021-03-01T22:26:13.989778Z",
     "start_time": "2021-03-01T22:26:13.980416Z"
    }
   },
   "outputs": [
    {
     "data": {
      "text/html": [
       "<div>\n",
       "<style scoped>\n",
       "    .dataframe tbody tr th:only-of-type {\n",
       "        vertical-align: middle;\n",
       "    }\n",
       "\n",
       "    .dataframe tbody tr th {\n",
       "        vertical-align: top;\n",
       "    }\n",
       "\n",
       "    .dataframe thead th {\n",
       "        text-align: right;\n",
       "    }\n",
       "</style>\n",
       "<table border=\"1\" class=\"dataframe\">\n",
       "  <thead>\n",
       "    <tr style=\"text-align: right;\">\n",
       "      <th></th>\n",
       "      <th>wood</th>\n",
       "      <th>metal</th>\n",
       "      <th>plastic</th>\n",
       "      <th>has_cap</th>\n",
       "    </tr>\n",
       "    <tr>\n",
       "      <th>type</th>\n",
       "      <th></th>\n",
       "      <th></th>\n",
       "      <th></th>\n",
       "      <th></th>\n",
       "    </tr>\n",
       "  </thead>\n",
       "  <tbody>\n",
       "    <tr>\n",
       "      <th>0</th>\n",
       "      <td>15</td>\n",
       "      <td>4</td>\n",
       "      <td>7</td>\n",
       "      <td>0</td>\n",
       "    </tr>\n",
       "    <tr>\n",
       "      <th>1</th>\n",
       "      <td>0</td>\n",
       "      <td>15</td>\n",
       "      <td>9</td>\n",
       "      <td>9</td>\n",
       "    </tr>\n",
       "  </tbody>\n",
       "</table>\n",
       "</div>"
      ],
      "text/plain": [
       "      wood  metal  plastic  has_cap\n",
       "type                               \n",
       "0       15      4        7        0\n",
       "1        0     15        9        9"
      ]
     },
     "execution_count": 4,
     "metadata": {},
     "output_type": "execute_result"
    }
   ],
   "source": [
    "utensils.groupby('type').sum()"
   ]
  },
  {
   "cell_type": "code",
   "execution_count": 5,
   "metadata": {
    "ExecuteTime": {
     "end_time": "2021-03-01T22:26:14.005714Z",
     "start_time": "2021-03-01T22:26:14.002522Z"
    }
   },
   "outputs": [
    {
     "data": {
      "text/plain": [
       "50"
      ]
     },
     "execution_count": 5,
     "metadata": {},
     "output_type": "execute_result"
    }
   ],
   "source": [
    "utensils.shape[0]"
   ]
  },
  {
   "cell_type": "markdown",
   "metadata": {},
   "source": [
    "**Using the table above, what observations can we make about the pens and pencils in our drawer?**"
   ]
  },
  {
   "cell_type": "markdown",
   "metadata": {
    "ExecuteTime": {
     "end_time": "2021-03-01T17:05:56.425693Z",
     "start_time": "2021-03-01T17:05:56.422563Z"
    }
   },
   "source": [
    "1. If it's wooden, it's definitely a pencil\n",
    "2. Has a cap, it's a pen \n",
    "3. Plastic is sort of a toss up"
   ]
  },
  {
   "cell_type": "code",
   "execution_count": 6,
   "metadata": {
    "ExecuteTime": {
     "end_time": "2021-03-01T22:26:14.011780Z",
     "start_time": "2021-03-01T22:26:14.007120Z"
    },
    "jupyter": {
     "source_hidden": true
    },
    "scrolled": false
   },
   "outputs": [
    {
     "data": {
      "text/html": [
       "<iframe src=\"https://docs.google.com/presentation/d/e/2PACX-1vRjpSr7iFUUJLV8RrrLtBF3czpuhV4iKnAylzbhDLlrvYirUO6hmNxyEerJjC8uTyIbA8WpDN1ZvnHR/embed?start=false&loop=false&delayms=3000\" frameborder=\"0\" width=\"960\" height=\"400\" allowfullscreen=\"true\" mozallowfullscreen=\"true\" webkitallowfullscreen=\"true\"></iframe>"
      ],
      "text/plain": [
       "<IPython.core.display.HTML object>"
      ]
     },
     "execution_count": 6,
     "metadata": {},
     "output_type": "execute_result"
    }
   ],
   "source": [
    "from IPython.display import HTML\n",
    "HTML('<iframe src=\"https://docs.google.com/presentation/d/e/2PACX-1vRjpSr7iFUUJLV8RrrLtBF3czpuhV4iKnAylzbhDLlrvYirUO6hmNxyEerJjC8uTyIbA8WpDN1ZvnHR/embed?start=false&loop=false&delayms=3000\" frameborder=\"0\" width=\"960\" height=\"400\" allowfullscreen=\"true\" mozallowfullscreen=\"true\" webkitallowfullscreen=\"true\"></iframe>')"
   ]
  },
  {
   "cell_type": "markdown",
   "metadata": {},
   "source": [
    "### Let's code out our decision tree!"
   ]
  },
  {
   "cell_type": "code",
   "execution_count": 7,
   "metadata": {
    "ExecuteTime": {
     "end_time": "2021-03-01T22:26:14.020565Z",
     "start_time": "2021-03-01T22:26:14.018452Z"
    }
   },
   "outputs": [
    {
     "data": {
      "text/plain": [
       "0.92"
      ]
     },
     "execution_count": 7,
     "metadata": {},
     "output_type": "execute_result"
    }
   ],
   "source": [
    "# Your code here\n",
    "from sklearn.metrics import accuracy_score\n",
    "\n",
    "preds = []\n",
    "for idx, row in utensils.iterrows():   # Iterate over DataFrame rows as (index, Series) pairs\n",
    "    if row.wood:\n",
    "        preds.append(0)\n",
    "    elif row.has_cap:\n",
    "        preds.append(1)\n",
    "    elif row.metal:\n",
    "        preds.append(1)\n",
    "    else:\n",
    "        preds.append(0)\n",
    "        \n",
    "accuracy_score(utensils.type, preds)"
   ]
  },
  {
   "cell_type": "markdown",
   "metadata": {},
   "source": [
    "**What observations did we classify incorrectly?**"
   ]
  },
  {
   "cell_type": "code",
   "execution_count": 8,
   "metadata": {
    "ExecuteTime": {
     "end_time": "2021-03-01T22:26:14.600623Z",
     "start_time": "2021-03-01T22:26:14.598473Z"
    }
   },
   "outputs": [
    {
     "data": {
      "text/html": [
       "<div>\n",
       "<style scoped>\n",
       "    .dataframe tbody tr th:only-of-type {\n",
       "        vertical-align: middle;\n",
       "    }\n",
       "\n",
       "    .dataframe tbody tr th {\n",
       "        vertical-align: top;\n",
       "    }\n",
       "\n",
       "    .dataframe thead th {\n",
       "        text-align: right;\n",
       "    }\n",
       "</style>\n",
       "<table border=\"1\" class=\"dataframe\">\n",
       "  <thead>\n",
       "    <tr style=\"text-align: right;\">\n",
       "      <th></th>\n",
       "      <th>wood</th>\n",
       "      <th>metal</th>\n",
       "      <th>plastic</th>\n",
       "      <th>has_cap</th>\n",
       "      <th>type</th>\n",
       "    </tr>\n",
       "  </thead>\n",
       "  <tbody>\n",
       "    <tr>\n",
       "      <th>35</th>\n",
       "      <td>0</td>\n",
       "      <td>1</td>\n",
       "      <td>0</td>\n",
       "      <td>0</td>\n",
       "      <td>0</td>\n",
       "    </tr>\n",
       "    <tr>\n",
       "      <th>41</th>\n",
       "      <td>0</td>\n",
       "      <td>1</td>\n",
       "      <td>0</td>\n",
       "      <td>0</td>\n",
       "      <td>0</td>\n",
       "    </tr>\n",
       "    <tr>\n",
       "      <th>42</th>\n",
       "      <td>0</td>\n",
       "      <td>1</td>\n",
       "      <td>0</td>\n",
       "      <td>0</td>\n",
       "      <td>0</td>\n",
       "    </tr>\n",
       "    <tr>\n",
       "      <th>44</th>\n",
       "      <td>0</td>\n",
       "      <td>1</td>\n",
       "      <td>0</td>\n",
       "      <td>0</td>\n",
       "      <td>0</td>\n",
       "    </tr>\n",
       "  </tbody>\n",
       "</table>\n",
       "</div>"
      ],
      "text/plain": [
       "    wood  metal  plastic  has_cap  type\n",
       "35     0      1        0        0     0\n",
       "41     0      1        0        0     0\n",
       "42     0      1        0        0     0\n",
       "44     0      1        0        0     0"
      ]
     },
     "execution_count": 8,
     "metadata": {},
     "output_type": "execute_result"
    }
   ],
   "source": [
    "# Your code here\n",
    "utensils[utensils.type != preds]"
   ]
  },
  {
   "cell_type": "markdown",
   "metadata": {},
   "source": [
    "- metal pencil (smallest subgroup)\n",
    "- may be add more samples"
   ]
  },
  {
   "cell_type": "markdown",
   "metadata": {},
   "source": [
    "**How can we do this with sklearn?**"
   ]
  },
  {
   "cell_type": "code",
   "execution_count": 9,
   "metadata": {
    "ExecuteTime": {
     "end_time": "2021-03-01T22:30:59.701219Z",
     "start_time": "2021-03-01T22:30:59.693810Z"
    }
   },
   "outputs": [
    {
     "data": {
      "text/plain": [
       "0.92"
      ]
     },
     "execution_count": 9,
     "metadata": {},
     "output_type": "execute_result"
    }
   ],
   "source": [
    "from sklearn.tree import DecisionTreeClassifier\n",
    "\n",
    "X = utensils.drop('type', axis=1)\n",
    "y = utensils.type\n",
    "dt = DecisionTreeClassifier()\n",
    "dt.fit(X,y)\n",
    "dt.score(X,y)"
   ]
  },
  {
   "cell_type": "markdown",
   "metadata": {
    "ExecuteTime": {
     "end_time": "2021-03-01T17:57:02.211374Z",
     "start_time": "2021-03-01T17:57:02.206732Z"
    }
   },
   "source": [
    "**Plotting an sklearn decision tree!**"
   ]
  },
  {
   "cell_type": "code",
   "execution_count": 11,
   "metadata": {
    "ExecuteTime": {
     "end_time": "2021-03-01T22:26:15.010566Z",
     "start_time": "2021-03-01T22:26:14.681772Z"
    }
   },
   "outputs": [
    {
     "data": {
      "image/png": "[encoded data removed]",
      "text/plain": [
       "<Figure size 432x288 with 1 Axes>"
      ]
     },
     "metadata": {
      "needs_background": "light"
     },
     "output_type": "display_data"
    }
   ],
   "source": [
    "from sklearn.tree import plot_tree\n",
    "plot_tree(dt, feature_names=X.columns, filled=True);"
   ]
  },
  {
   "cell_type": "markdown",
   "metadata": {},
   "source": [
    "## How does a decision tree make decisions?"
   ]
  },
  {
   "cell_type": "markdown",
   "metadata": {},
   "source": [
    "There are two available cost functions (metric that determine the best split of the data) that a decision tree can use:\n",
    "1. The Gini Index\n",
    "2. Entropy"
   ]
  },
  {
   "cell_type": "markdown",
   "metadata": {},
   "source": [
    "### Gini Index"
   ]
  },
  {
   "cell_type": "markdown",
   "metadata": {},
   "source": [
    "$Gini Index = 1 – \\sum_{j}p_{j}^{2}$\n",
    "\n",
    "j = A class label\n",
    "\n",
    "p = The proportion of observations in the split for the j class label"
   ]
  },
  {
   "cell_type": "markdown",
   "metadata": {},
   "source": [
    "Let's turn this into a function!\n",
    "\n",
    "In the cell below we create a `gini_index` function that:\n",
    "1. receives a pandas series\n",
    "2. calculates the proportions for each class in the series\n",
    "3. Calculates and returns the gini index"
   ]
  },
  {
   "cell_type": "code",
   "execution_count": 12,
   "metadata": {
    "ExecuteTime": {
     "end_time": "2021-03-01T22:26:15.222122Z",
     "start_time": "2021-03-01T22:26:15.220365Z"
    }
   },
   "outputs": [],
   "source": [
    "# Your code here\n",
    "def gini_index(series):\n",
    "    proportions = series.value_counts(normalize=True)\n",
    "    proportions = proportions ** 2\n",
    "    gini_index = 1 - proportions.sum()\n",
    "    return gini_index"
   ]
  },
  {
   "cell_type": "markdown",
   "metadata": {},
   "source": [
    "**Let's use our gini index function to calculate the gini score for each split of our decision tree!**"
   ]
  },
  {
   "cell_type": "markdown",
   "metadata": {},
   "source": [
    "First we calculate the gini score for whether or not the utensil is made of wood. "
   ]
  },
  {
   "cell_type": "code",
   "execution_count": 13,
   "metadata": {
    "ExecuteTime": {
     "end_time": "2021-03-01T22:31:02.481569Z",
     "start_time": "2021-03-01T22:31:02.472447Z"
    }
   },
   "outputs": [
    {
     "name": "stdout",
     "output_type": "stream",
     "text": [
      "Wood Gini: 0.0\n",
      "Not Wood Gini: 0.43102040816326526\n"
     ]
    }
   ],
   "source": [
    "# Collect the index for observations \n",
    "# that are made of wood\n",
    "wood_index = X[utensils.wood > .5].index\n",
    "\n",
    "# Collect the index for observations \n",
    "# that are not made of wood\n",
    "not_wood_index = X[utensils.wood <= .5].index\n",
    "\n",
    "# Collect the labels for both groups\n",
    "wood_labels = y.loc[wood_index]\n",
    "not_wood_labels = y.loc[not_wood_index]\n",
    "\n",
    "# Calculate the gini score for each!\n",
    "wood_gini = gini_index(wood_labels)\n",
    "not_wood_gini = gini_index(not_wood_labels)\n",
    "print(f'Wood Gini: {wood_gini}')\n",
    "print(f'Not Wood Gini: {not_wood_gini}')"
   ]
  },
  {
   "cell_type": "markdown",
   "metadata": {},
   "source": [
    "- Gini score = 0 means perfect split\n",
    "- the lower the gini score, the better"
   ]
  },
  {
   "cell_type": "markdown",
   "metadata": {},
   "source": [
    "Next, we take the observations that are not made of wood, and split them according to whether or not they have a cap. "
   ]
  },
  {
   "cell_type": "code",
   "execution_count": 14,
   "metadata": {
    "ExecuteTime": {
     "end_time": "2021-03-01T22:26:15.257231Z",
     "start_time": "2021-03-01T22:26:15.247660Z"
    }
   },
   "outputs": [
    {
     "name": "stdout",
     "output_type": "stream",
     "text": [
      "No Wood With Cap Gini: 0.0\n",
      "No Wood No Cap Gini: 0.48816568047337283\n"
     ]
    }
   ],
   "source": [
    "# Collect the index for observations \n",
    "# that are not made of wood and have a cap\n",
    "mask = (X.loc[not_wood_index].has_cap > .5)\n",
    "no_wood_with_cap_index = (X.loc[not_wood_index][mask]).index\n",
    "\n",
    "# Collect the index for observations \n",
    "# that are not made of wood and have do not have a cap\n",
    "mask = (X.loc[not_wood_index].has_cap <= .5)\n",
    "no_wood_no_cap_index = (X.loc[not_wood_index][mask]).index\n",
    "\n",
    "# Collect class labels for both groups\n",
    "no_wood_with_cap_labels = y.loc[no_wood_with_cap_index]\n",
    "no_wood_no_cap_labels = y.loc[no_wood_no_cap_index]\n",
    "\n",
    "# Calculate the gini score for each!\n",
    "no_wood_with_cap_gini = gini_index(no_wood_with_cap_labels)\n",
    "no_wood_no_cap_gini = gini_index(no_wood_no_cap_labels)\n",
    "\n",
    "\n",
    "print(f'No Wood With Cap Gini: {no_wood_with_cap_gini}')\n",
    "print(f'No Wood No Cap Gini: {no_wood_no_cap_gini}')"
   ]
  },
  {
   "cell_type": "markdown",
   "metadata": {},
   "source": [
    "Now, we take the observations that are not made of wood and do not have have a cap, and we split them according to whether or not they are made of metal. "
   ]
  },
  {
   "cell_type": "code",
   "execution_count": 15,
   "metadata": {
    "ExecuteTime": {
     "end_time": "2021-03-01T22:26:15.287754Z",
     "start_time": "2021-03-01T22:26:15.270542Z"
    }
   },
   "outputs": [
    {
     "name": "stdout",
     "output_type": "stream",
     "text": [
      "No Wood No Cap Metal Gini: 0.3324099722991689\n",
      "No Wood No Cap No Metal Gini: 0.0\n"
     ]
    }
   ],
   "source": [
    "# Collect the index for observations \n",
    "# that are not made of wood and have a cap\n",
    "mask = (X.loc[no_wood_no_cap_index].metal > .5)\n",
    "no_wood_no_cap_metal_index = (X.loc[no_wood_no_cap_index][mask]).index\n",
    "\n",
    "# Collect the index for observations \n",
    "# that are not made of wood and have do not have a cap\n",
    "mask = (X.loc[no_wood_no_cap_index].metal <= .5)\n",
    "no_wood_no_cap_no_metal_index = (X.loc[no_wood_no_cap_index][mask]).index\n",
    "\n",
    "# Collect class labels for both groups\n",
    "no_wood_no_cap_metal_labels = y.loc[no_wood_no_cap_metal_index]\n",
    "no_wood_no_cap_no_metal_labels = y.loc[no_wood_no_cap_no_metal_index]\n",
    "\n",
    "# Calculate the gini score for each!\n",
    "no_wood_no_cap_metal_gini = gini_index(no_wood_no_cap_metal_labels)\n",
    "no_wood_no_cap_no_metal_gini = gini_index(no_wood_no_cap_no_metal_labels)\n",
    "\n",
    "\n",
    "print(f'No Wood No Cap Metal Gini: {no_wood_no_cap_metal_gini}')\n",
    "print(f'No Wood No Cap No Metal Gini: {no_wood_no_cap_no_metal_gini}')"
   ]
  },
  {
   "cell_type": "markdown",
   "metadata": {},
   "source": [
    "### How does Decision Tree decide on splits?"
   ]
  },
  {
   "cell_type": "markdown",
   "metadata": {},
   "source": [
    "For every split, the decision tree:\n",
    "1. Loops over every column\n",
    "2. Splits the data according to every unique value in the column\n",
    "3. Calculates the gini score for every split\n",
    "4. Returns the split that resulted in the best gini score."
   ]
  },
  {
   "cell_type": "code",
   "execution_count": 16,
   "metadata": {
    "ExecuteTime": {
     "end_time": "2021-03-01T22:26:15.347576Z",
     "start_time": "2021-03-01T22:26:15.307254Z"
    }
   },
   "outputs": [
    {
     "name": "stdout",
     "output_type": "stream",
     "text": [
      "Best Score: 0.4992\n",
      "Best Split: ('wood', 1)\n"
     ]
    }
   ],
   "source": [
    "# The maximum score for gini is .5\n",
    "# Any score that is less than 1 is an improvement\n",
    "# So we will set the best score to .5 and check \n",
    "# if our calculates scores of better\n",
    "best_score = .5\n",
    "# Variable to contain information about \n",
    "# The best split of the data\n",
    "best_split = None\n",
    "\n",
    "# Loop over every column\n",
    "for column in X.columns:\n",
    "    # Find all the unique values in the column\n",
    "    unique = utensils[column].unique()\n",
    "    # Loop over every unique value\n",
    "    for val in unique:\n",
    "        # split the data according to the unique value\n",
    "        split_1 = utensils[utensils[column] <= val]\n",
    "        split_2 = utensils[utensils[column] >= val]\n",
    "        # Calculate the gini score for each split\n",
    "        split_1_score = gini_index(split_1.type)\n",
    "        split_2_score = gini_index(split_2.type)\n",
    "        # Add the gini scores together\n",
    "        score = split_1_score + split_2_score\n",
    "        # If the score if less than the best score\n",
    "        # set the best score to the score we have \n",
    "        # calculated and set the best split\n",
    "        # to the name of the column and the value\n",
    "        # we split on\n",
    "        if score < best_score:\n",
    "            best_score = score\n",
    "            best_split = (column, val)\n",
    "            \n",
    "print(f'Best Score: {best_score}')\n",
    "print(f'Best Split: {best_split}')"
   ]
  },
  {
   "cell_type": "markdown",
   "metadata": {
    "ExecuteTime": {
     "end_time": "2021-03-01T21:20:36.798388Z",
     "start_time": "2021-03-01T21:20:36.795963Z"
    }
   },
   "source": [
    "### Entropy"
   ]
  },
  {
   "cell_type": "markdown",
   "metadata": {},
   "source": [
    "$Entropy = – \\sum_{j}p_{j} \\cdot log_{2} \\cdot p_{j}$"
   ]
  },
  {
   "cell_type": "code",
   "execution_count": 17,
   "metadata": {
    "ExecuteTime": {
     "end_time": "2021-03-01T22:26:15.389511Z",
     "start_time": "2021-03-01T22:26:15.386527Z"
    }
   },
   "outputs": [],
   "source": [
    "def entropy(series):\n",
    "    proportions = series.value_counts(normalize=True)\n",
    "    proportions = proportions * np.log2(proportions)\n",
    "    proportions = proportions.sum()\n",
    "    return -proportions"
   ]
  },
  {
   "cell_type": "markdown",
   "metadata": {},
   "source": [
    "Let's run the code above, and replace `gini_index` with our `entropy` function"
   ]
  },
  {
   "cell_type": "code",
   "execution_count": 18,
   "metadata": {
    "ExecuteTime": {
     "end_time": "2021-03-01T22:26:15.434438Z",
     "start_time": "2021-03-01T22:26:15.395218Z"
    }
   },
   "outputs": [
    {
     "name": "stdout",
     "output_type": "stream",
     "text": [
      "Best Score: 0.9988455359952018\n",
      "Best Split: ('wood', 1)\n"
     ]
    }
   ],
   "source": [
    "# The maximum score for entropy is 1\n",
    "# Any score that is less than 1 is an improvement\n",
    "# So we will set the best score to 1 and check \n",
    "# if our calculates scores of better\n",
    "best_score = 1\n",
    "# Variable to contain information about \n",
    "# The best split of the data\n",
    "best_split = None\n",
    "\n",
    "# Loop over every column\n",
    "for column in X.columns:\n",
    "    # Find all the unique values in the column\n",
    "    unique = utensils[column].unique()\n",
    "    # Loop over every unique value\n",
    "    for val in unique:\n",
    "        # split the data according to the unique value\n",
    "        split_1 = utensils[utensils[column] <= val]\n",
    "        split_2 = utensils[utensils[column] >= val]\n",
    "        # Calculate the entropy for each split\n",
    "        split_1_score = entropy(split_1.type)\n",
    "        split_2_score = entropy(split_2.type)\n",
    "        # Add the entropy scores together\n",
    "        score = split_1_score + split_2_score\n",
    "        # If the score if less than the best score\n",
    "        # set the best score to the score we have \n",
    "        # calculated and set the best split\n",
    "        # to the name of the column and the value\n",
    "        # we split on\n",
    "        if score < best_score:\n",
    "            best_score = score\n",
    "            best_split = (column, val)\n",
    "            \n",
    "print(f'Best Score: {best_score}')\n",
    "print(f'Best Split: {best_split}')"
   ]
  },
  {
   "cell_type": "code",
   "execution_count": 19,
   "metadata": {
    "ExecuteTime": {
     "end_time": "2021-03-01T22:26:15.697312Z",
     "start_time": "2021-03-01T22:26:15.475671Z"
    }
   },
   "outputs": [
    {
     "data": {
      "image/png": "[encoded data removed]",
      "text/plain": [
       "<Figure size 432x288 with 1 Axes>"
      ]
     },
     "metadata": {
      "needs_background": "light"
     },
     "output_type": "display_data"
    }
   ],
   "source": [
    "dt = DecisionTreeClassifier(criterion='entropy')\n",
    "dt.fit(X,y)\n",
    "plot_tree(dt, feature_names=X.columns, filled=True);"
   ]
  },
  {
   "cell_type": "markdown",
   "metadata": {},
   "source": [
    "What is the difference between gini and entropy? \n",
    "\n",
    "Due to time, this question is slightly out of scope for this lesson. For a good explanation, see [this article](https://quantdare.com/decision-trees-gini-vs-entropy/)\n",
    "\n",
    "The TL;DR is that entropy is more computationally expensive (the model takes longer to fit to data) than gini, but <b>entropy tends to perform slightly better</b> in terms of accuracy than gini. "
   ]
  },
  {
   "cell_type": "markdown",
   "metadata": {},
   "source": [
    "## Using Sklearn"
   ]
  },
  {
   "cell_type": "code",
   "execution_count": 20,
   "metadata": {
    "ExecuteTime": {
     "end_time": "2021-03-01T22:26:16.236648Z",
     "start_time": "2021-03-01T22:26:15.905018Z"
    },
    "scrolled": true
   },
   "outputs": [],
   "source": [
    "df = pd.read_csv('https://gist.githubusercontent.com/michhar/2dfd2de0d4f8727f873422c5d959fff5/raw/fa71405126017e6a37bea592440b4bee94bf7b9e/titanic.csv')"
   ]
  },
  {
   "cell_type": "code",
   "execution_count": 21,
   "metadata": {
    "ExecuteTime": {
     "end_time": "2021-03-01T22:26:16.250769Z",
     "start_time": "2021-03-01T22:26:16.237957Z"
    }
   },
   "outputs": [
    {
     "data": {
      "text/html": [
       "<div>\n",
       "<style scoped>\n",
       "    .dataframe tbody tr th:only-of-type {\n",
       "        vertical-align: middle;\n",
       "    }\n",
       "\n",
       "    .dataframe tbody tr th {\n",
       "        vertical-align: top;\n",
       "    }\n",
       "\n",
       "    .dataframe thead th {\n",
       "        text-align: right;\n",
       "    }\n",
       "</style>\n",
       "<table border=\"1\" class=\"dataframe\">\n",
       "  <thead>\n",
       "    <tr style=\"text-align: right;\">\n",
       "      <th></th>\n",
       "      <th>PassengerId</th>\n",
       "      <th>Survived</th>\n",
       "      <th>Pclass</th>\n",
       "      <th>Name</th>\n",
       "      <th>Sex</th>\n",
       "      <th>Age</th>\n",
       "      <th>SibSp</th>\n",
       "      <th>Parch</th>\n",
       "      <th>Ticket</th>\n",
       "      <th>Fare</th>\n",
       "      <th>Cabin</th>\n",
       "      <th>Embarked</th>\n",
       "    </tr>\n",
       "  </thead>\n",
       "  <tbody>\n",
       "    <tr>\n",
       "      <th>0</th>\n",
       "      <td>1</td>\n",
       "      <td>0</td>\n",
       "      <td>3</td>\n",
       "      <td>Braund, Mr. Owen Harris</td>\n",
       "      <td>male</td>\n",
       "      <td>22.0</td>\n",
       "      <td>1</td>\n",
       "      <td>0</td>\n",
       "      <td>A/5 21171</td>\n",
       "      <td>7.2500</td>\n",
       "      <td>NaN</td>\n",
       "      <td>S</td>\n",
       "    </tr>\n",
       "    <tr>\n",
       "      <th>1</th>\n",
       "      <td>2</td>\n",
       "      <td>1</td>\n",
       "      <td>1</td>\n",
       "      <td>Cumings, Mrs. John Bradley (Florence Briggs Th...</td>\n",
       "      <td>female</td>\n",
       "      <td>38.0</td>\n",
       "      <td>1</td>\n",
       "      <td>0</td>\n",
       "      <td>PC 17599</td>\n",
       "      <td>71.2833</td>\n",
       "      <td>C85</td>\n",
       "      <td>C</td>\n",
       "    </tr>\n",
       "    <tr>\n",
       "      <th>2</th>\n",
       "      <td>3</td>\n",
       "      <td>1</td>\n",
       "      <td>3</td>\n",
       "      <td>Heikkinen, Miss. Laina</td>\n",
       "      <td>female</td>\n",
       "      <td>26.0</td>\n",
       "      <td>0</td>\n",
       "      <td>0</td>\n",
       "      <td>STON/O2. 3101282</td>\n",
       "      <td>7.9250</td>\n",
       "      <td>NaN</td>\n",
       "      <td>S</td>\n",
       "    </tr>\n",
       "    <tr>\n",
       "      <th>3</th>\n",
       "      <td>4</td>\n",
       "      <td>1</td>\n",
       "      <td>1</td>\n",
       "      <td>Futrelle, Mrs. Jacques Heath (Lily May Peel)</td>\n",
       "      <td>female</td>\n",
       "      <td>35.0</td>\n",
       "      <td>1</td>\n",
       "      <td>0</td>\n",
       "      <td>113803</td>\n",
       "      <td>53.1000</td>\n",
       "      <td>C123</td>\n",
       "      <td>S</td>\n",
       "    </tr>\n",
       "    <tr>\n",
       "      <th>4</th>\n",
       "      <td>5</td>\n",
       "      <td>0</td>\n",
       "      <td>3</td>\n",
       "      <td>Allen, Mr. William Henry</td>\n",
       "      <td>male</td>\n",
       "      <td>35.0</td>\n",
       "      <td>0</td>\n",
       "      <td>0</td>\n",
       "      <td>373450</td>\n",
       "      <td>8.0500</td>\n",
       "      <td>NaN</td>\n",
       "      <td>S</td>\n",
       "    </tr>\n",
       "  </tbody>\n",
       "</table>\n",
       "</div>"
      ],
      "text/plain": [
       "   PassengerId  Survived  Pclass  \\\n",
       "0            1         0       3   \n",
       "1            2         1       1   \n",
       "2            3         1       3   \n",
       "3            4         1       1   \n",
       "4            5         0       3   \n",
       "\n",
       "                                                Name     Sex   Age  SibSp  \\\n",
       "0                            Braund, Mr. Owen Harris    male  22.0      1   \n",
       "1  Cumings, Mrs. John Bradley (Florence Briggs Th...  female  38.0      1   \n",
       "2                             Heikkinen, Miss. Laina  female  26.0      0   \n",
       "3       Futrelle, Mrs. Jacques Heath (Lily May Peel)  female  35.0      1   \n",
       "4                           Allen, Mr. William Henry    male  35.0      0   \n",
       "\n",
       "   Parch            Ticket     Fare Cabin Embarked  \n",
       "0      0         A/5 21171   7.2500   NaN        S  \n",
       "1      0          PC 17599  71.2833   C85        C  \n",
       "2      0  STON/O2. 3101282   7.9250   NaN        S  \n",
       "3      0            113803  53.1000  C123        S  \n",
       "4      0            373450   8.0500   NaN        S  "
      ]
     },
     "execution_count": 21,
     "metadata": {},
     "output_type": "execute_result"
    }
   ],
   "source": [
    "df.head()"
   ]
  },
  {
   "cell_type": "code",
   "execution_count": 22,
   "metadata": {
    "ExecuteTime": {
     "end_time": "2021-03-01T22:26:16.254179Z",
     "start_time": "2021-03-01T22:26:16.252227Z"
    }
   },
   "outputs": [],
   "source": [
    "# Import decision tree classifier\n",
    "from sklearn.tree import DecisionTreeClassifier\n",
    "\n",
    "# Other imports:\n",
    "from sklearn.preprocessing import LabelEncoder\n",
    "from sklearn.model_selection import train_test_split"
   ]
  },
  {
   "cell_type": "code",
   "execution_count": 23,
   "metadata": {
    "ExecuteTime": {
     "end_time": "2021-03-01T22:26:16.261542Z",
     "start_time": "2021-03-01T22:26:16.259450Z"
    }
   },
   "outputs": [
    {
     "name": "stderr",
     "output_type": "stream",
     "text": [
      "/opt/anaconda3/envs/learn-env/lib/python3.6/site-packages/sklearn/utils/validation.py:63: DataConversionWarning: A column-vector y was passed when a 1d array was expected. Please change the shape of y to (n_samples, ), for example using ravel().\n",
      "  return f(*args, **kwargs)\n"
     ]
    },
    {
     "data": {
      "text/plain": [
       "DecisionTreeClassifier()"
      ]
     },
     "execution_count": 23,
     "metadata": {},
     "output_type": "execute_result"
    }
   ],
   "source": [
    "# Select the features I'd like to use\n",
    "features = ['Age', 'Pclass', 'Sex', 'Fare']\n",
    "\n",
    "# Drop null values for according to selected features\n",
    "X = df.dropna(subset=features)\n",
    "\n",
    "# Isolate the target\n",
    "y = X.Survived\n",
    "\n",
    "# Isolate the predictors\n",
    "X = X[features]\n",
    "\n",
    "# Instantiate a label encoder\n",
    "encoder = LabelEncoder()\n",
    "\n",
    "# Fit the label encoder to the categorical data\n",
    "encoder.fit(X[['Sex']])\n",
    "\n",
    "# Transform the categorical data\n",
    "X['Sex'] = encoder.transform(X[['Sex']])\n",
    "\n",
    "# Create a train test split\n",
    "X_train, X_test, y_train, y_test = train_test_split(X,y)\n",
    "\n",
    "# Fit the decision tree\n",
    "dt = DecisionTreeClassifier()\n",
    "dt.fit(X_train, y_train)"
   ]
  },
  {
   "cell_type": "markdown",
   "metadata": {},
   "source": [
    "Let's score the decision tree model on the training data"
   ]
  },
  {
   "cell_type": "code",
   "execution_count": 24,
   "metadata": {
    "ExecuteTime": {
     "end_time": "2021-03-01T22:26:16.290839Z",
     "start_time": "2021-03-01T22:26:16.284986Z"
    }
   },
   "outputs": [
    {
     "data": {
      "text/plain": [
       "0.9869158878504672"
      ]
     },
     "execution_count": 24,
     "metadata": {},
     "output_type": "execute_result"
    }
   ],
   "source": [
    "dt.score(X_train,y_train)"
   ]
  },
  {
   "cell_type": "markdown",
   "metadata": {},
   "source": [
    "Let's score the decision tree model on testing data"
   ]
  },
  {
   "cell_type": "code",
   "execution_count": 25,
   "metadata": {
    "ExecuteTime": {
     "end_time": "2021-03-01T22:26:16.297611Z",
     "start_time": "2021-03-01T22:26:16.292499Z"
    }
   },
   "outputs": [
    {
     "data": {
      "text/plain": [
       "0.7486033519553073"
      ]
     },
     "execution_count": 25,
     "metadata": {},
     "output_type": "execute_result"
    }
   ],
   "source": [
    "dt.score(X_test,y_test)"
   ]
  },
  {
   "cell_type": "markdown",
   "metadata": {},
   "source": [
    "- deeply overfitting"
   ]
  },
  {
   "cell_type": "markdown",
   "metadata": {},
   "source": [
    "Plot the decision tree"
   ]
  },
  {
   "cell_type": "code",
   "execution_count": 26,
   "metadata": {
    "ExecuteTime": {
     "end_time": "2021-03-01T22:26:21.512235Z",
     "start_time": "2021-03-01T22:26:16.299169Z"
    }
   },
   "outputs": [
    {
     "data": {
      "image/png": "[encoded data removed]",
      "text/plain": [
       "<Figure size 432x288 with 1 Axes>"
      ]
     },
     "metadata": {
      "needs_background": "light"
     },
     "output_type": "display_data"
    }
   ],
   "source": [
    "plot_tree(dt, feature_names=X.columns, filled=True);"
   ]
  },
  {
   "cell_type": "markdown",
   "metadata": {},
   "source": [
    "- overfitting\n",
    "- need tuning methond"
   ]
  },
  {
   "cell_type": "markdown",
   "metadata": {},
   "source": [
    "### Tune the model!"
   ]
  },
  {
   "cell_type": "code",
   "execution_count": 27,
   "metadata": {
    "ExecuteTime": {
     "end_time": "2021-03-01T22:26:21.516814Z",
     "start_time": "2021-03-01T22:26:21.514044Z"
    }
   },
   "outputs": [],
   "source": [
    "second_model = DecisionTreeClassifier(max_depth=5, min_samples_split = 10, max_leaf_nodes=100)"
   ]
  },
  {
   "cell_type": "code",
   "execution_count": 28,
   "metadata": {
    "ExecuteTime": {
     "end_time": "2021-03-01T22:26:21.524981Z",
     "start_time": "2021-03-01T22:26:21.518548Z"
    }
   },
   "outputs": [
    {
     "data": {
      "text/plain": [
       "0.8598130841121495"
      ]
     },
     "execution_count": 28,
     "metadata": {},
     "output_type": "execute_result"
    }
   ],
   "source": [
    "second_model.fit(X_train, y_train)\n",
    "second_model.score(X_train,y_train)"
   ]
  },
  {
   "cell_type": "code",
   "execution_count": 29,
   "metadata": {
    "ExecuteTime": {
     "end_time": "2021-03-01T22:26:21.531826Z",
     "start_time": "2021-03-01T22:26:21.526354Z"
    }
   },
   "outputs": [
    {
     "data": {
      "text/plain": [
       "0.7932960893854749"
      ]
     },
     "execution_count": 29,
     "metadata": {},
     "output_type": "execute_result"
    }
   ],
   "source": [
    "second_model.score(X_test, y_test)"
   ]
  },
  {
   "cell_type": "code",
   "execution_count": 30,
   "metadata": {
    "ExecuteTime": {
     "end_time": "2021-03-01T22:26:22.371830Z",
     "start_time": "2021-03-01T22:26:21.533389Z"
    }
   },
   "outputs": [
    {
     "data": {
      "image/png": "[encoded data removed]",
      "text/plain": [
       "<Figure size 432x288 with 1 Axes>"
      ]
     },
     "metadata": {
      "needs_background": "light"
     },
     "output_type": "display_data"
    }
   ],
   "source": [
    "plot_tree(second_model, feature_names=X.columns, filled=True);"
   ]
  },
  {
   "cell_type": "markdown",
   "metadata": {},
   "source": [
    "### Grid Search"
   ]
  },
  {
   "cell_type": "code",
   "execution_count": 31,
   "metadata": {
    "ExecuteTime": {
     "end_time": "2021-03-01T22:26:22.375452Z",
     "start_time": "2021-03-01T22:26:22.372953Z"
    }
   },
   "outputs": [],
   "source": [
    "from sklearn.model_selection import GridSearchCV"
   ]
  },
  {
   "cell_type": "code",
   "execution_count": 32,
   "metadata": {
    "ExecuteTime": {
     "end_time": "2021-03-01T22:26:22.598118Z",
     "start_time": "2021-03-01T22:26:22.377352Z"
    }
   },
   "outputs": [
    {
     "data": {
      "text/plain": [
       "GridSearchCV(cv=3, estimator=DecisionTreeClassifier(),\n",
       "             param_grid={'max_depth': [2, 4, 5],\n",
       "                         'max_leaf_nodes': [40, 80, 100],\n",
       "                         'min_samples_split': [6, 10, 14]},\n",
       "             scoring='accuracy')"
      ]
     },
     "execution_count": 32,
     "metadata": {},
     "output_type": "execute_result"
    }
   ],
   "source": [
    "grid_params = {'min_samples_split' : [6,10,14],\n",
    "               'max_depth': [2,4,5],\n",
    "               'max_leaf_nodes': [40,80,100]}\n",
    "\n",
    "grid_search = GridSearchCV(dt, grid_params, cv=3, scoring='accuracy')\n",
    "grid_search.fit(X_train, y_train)"
   ]
  },
  {
   "cell_type": "code",
   "execution_count": 33,
   "metadata": {
    "ExecuteTime": {
     "end_time": "2021-03-01T22:26:22.603678Z",
     "start_time": "2021-03-01T22:26:22.599244Z"
    }
   },
   "outputs": [
    {
     "data": {
      "text/plain": [
       "0.8467289719626169"
      ]
     },
     "execution_count": 33,
     "metadata": {},
     "output_type": "execute_result"
    }
   ],
   "source": [
    "grid_search.score(X_train, y_train)"
   ]
  },
  {
   "cell_type": "code",
   "execution_count": 34,
   "metadata": {
    "ExecuteTime": {
     "end_time": "2021-03-01T22:26:22.609644Z",
     "start_time": "2021-03-01T22:26:22.604694Z"
    }
   },
   "outputs": [
    {
     "data": {
      "text/plain": [
       "0.7541899441340782"
      ]
     },
     "execution_count": 34,
     "metadata": {},
     "output_type": "execute_result"
    }
   ],
   "source": [
    "grid_search.score(X_test, y_test)"
   ]
  },
  {
   "cell_type": "code",
   "execution_count": 35,
   "metadata": {
    "ExecuteTime": {
     "end_time": "2021-03-01T22:26:22.614026Z",
     "start_time": "2021-03-01T22:26:22.610956Z"
    }
   },
   "outputs": [
    {
     "data": {
      "text/plain": [
       "{'max_depth': 4, 'max_leaf_nodes': 40, 'min_samples_split': 10}"
      ]
     },
     "execution_count": 35,
     "metadata": {},
     "output_type": "execute_result"
    }
   ],
   "source": [
    "grid_search.best_params_"
   ]
  },
  {
   "cell_type": "code",
   "execution_count": 36,
   "metadata": {},
   "outputs": [
    {
     "data": {
      "text/plain": [
       "DecisionTreeClassifier(max_depth=4, max_leaf_nodes=40, min_samples_split=10)"
      ]
     },
     "execution_count": 36,
     "metadata": {},
     "output_type": "execute_result"
    }
   ],
   "source": [
    "grid_search.best_estimator_"
   ]
  }
 ],
 "metadata": {
  "kernelspec": {
   "display_name": "Python 3",
   "language": "python",
   "name": "python3"
  },
  "language_info": {
   "codemirror_mode": {
    "name": "ipython",
    "version": 3
   },
   "file_extension": ".py",
   "mimetype": "text/x-python",
   "name": "python",
   "nbconvert_exporter": "python",
   "pygments_lexer": "ipython3",
   "version": "3.6.9"
  },
  "toc": {
   "base_numbering": 1,
   "nav_menu": {},
   "number_sections": false,
   "sideBar": true,
   "skip_h1_title": false,
   "title_cell": "Table of Contents",
   "title_sidebar": "Contents",
   "toc_cell": false,
   "toc_position": {},
   "toc_section_display": true,
   "toc_window_display": false
  }
 },
 "nbformat": 4,
 "nbformat_minor": 4
}
