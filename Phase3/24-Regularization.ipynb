{
 "cells": [
  {
   "cell_type": "markdown",
   "metadata": {},
   "source": [
    "# Regularization\n",
    "\n",
    "## Why Regularize?\n",
    "\n",
    "In an attempt to fit a good model to data, we often tend to overfit. Regularization discourages overly complex models by penalizing the loss function.\n",
    "\n",
    "### The Bias-Variance Tradeoff\n",
    "\n",
    "When we did Linear Regression, we briefly talked about the Bias-Variance Tradeoff.\n",
    "\n",
    "![](http://scott.fortmann-roe.com/docs/docs/BiasVariance/biasvariance.png)\n",
    "\n",
    "![](https://miro.medium.com/max/544/1*Y-yJiR0FzMgchPA-Fm5c1Q.jpeg)"
   ]
  },
  {
   "cell_type": "markdown",
   "metadata": {},
   "source": [
    "overfitting => learn every noise in training data => generalize bad on testing data"
   ]
  },
  {
   "cell_type": "markdown",
   "metadata": {},
   "source": [
    "**High bias** \n",
    "\n",
    " - Systematic error in predictions (i.e. the average)\n",
    " - Bias is about the strength of assumptions the model makes\n",
    " - Underfit models tend to have high bias\n",
    "\n",
    "\n",
    "**High variance**\n",
    "\n",
    " - The model is highly sensitive to changes in the data\n",
    " - Overfit models tend to have low bias and high variance\n",
    "    \n",
    "    \n",
    "![](https://gblobscdn.gitbook.com/assets%2F-LvBP1svpACTB1R1x_U4%2F-LvNWUoWieQqaGmU_gl9%2F-LvNoby-llz4QzAK15nL%2Fimage.png?alt=media&token=41720ce9-bb66-4419-9bd8-640abf1fc415)\n",
    "\n",
    " - Underfit Models fail to capture all of the information in the data\n",
    " - Overfit models fit to the noise in the data and fail to generalize\n",
    "\n",
    "\n",
    "**How would we know if our model is over or underfit?**\n",
    " - Train test split & look at the testing error\n",
    " - As model complexity increases so does the possibility for overfitting"
   ]
  },
  {
   "cell_type": "markdown",
   "metadata": {},
   "source": [
    "## Ridge and Lasso\n",
    "\n",
    "Ridge and Lasso regression are two examples of penalized estimation. Penalized estimation makes some or all of the coefficients smaller in magnitude (closer to zero). Some of the penalties have the property of performing both variable selection (setting some coefficients exactly equal to zero) and shrinking the other coefficients. \n",
    "\n",
    "In Ridge regression, the cost function is changed by adding a penalty term to the square of the magnitude of the coefficients. \n",
    "\n",
    "$$ \\text{cost_function_ridge}= \\sum_{i=1}^n(y_i - \\hat{y})^2 = \\sum_{i=1}^n(y_i - \\sum_{j=1}^k(m_jx_{ij})-b)^2 + \\lambda \\sum_{j=1}^p m_j^2$$\n",
    "\n",
    "Lasso regression (Least Absolute Shrinkage and Selection Operator) is very similar to Ridge regression, except that the magnitude of the coefficients are not squared in the penalty term.\n",
    "\n",
    "$$ \\text{cost_function_lasso}= \\sum_{i=1}^n(y_i - \\hat{y})^2 = \\sum_{i=1}^n(y_i - \\sum_{j=1}^k(m_jx_{ij})-b)^2 + \\lambda \\sum_{j=1}^p \\mid m_j \\mid$$\n",
    "\n",
    "So we're penalizing large coefficients -- what are the effects/implications of that?\n",
    "\n",
    "### Standardization before Regularization\n",
    "\n",
    "An important step before using either Lasso or Ridge regularization is to first standardize your data such that it is all on the same scale. Regularization is based on the concept of penalizing larger coefficients, so **if you have features that are on different scales, some will get unfairly penalized**. A downside of standardization is that the value of the coefficients become less interpretable and must be transformed back to their original scale if you want to interpret how a one unit change in a feature impacts the target variable.\n",
    "\n",
    "**Scaler documentation:**\n",
    "\n",
    "* https://scikit-learn.org/stable/modules/generated/sklearn.preprocessing.MinMaxScaler.html\n",
    "* https://scikit-learn.org/stable/modules/generated/sklearn.preprocessing.StandardScaler.html"
   ]
  },
  {
   "cell_type": "markdown",
   "metadata": {},
   "source": [
    "## Let's Code! \n",
    "\n",
    "Start with a regular Linear Regression."
   ]
  },
  {
   "cell_type": "code",
   "execution_count": 1,
   "metadata": {},
   "outputs": [],
   "source": [
    "import pandas as pd\n",
    "import numpy as np\n",
    "\n",
    "import matplotlib.pyplot as plt\n",
    "\n",
    "from sklearn.model_selection import train_test_split\n",
    "from sklearn.metrics import mean_squared_error, r2_score\n",
    "from sklearn.linear_model import LinearRegression\n",
    "from sklearn.impute import SimpleImputer\n",
    "from sklearn.preprocessing import StandardScaler, MinMaxScaler\n",
    "from sklearn.preprocessing import OneHotEncoder\n",
    "\n",
    "# import warnings\n",
    "# warnings.filterwarnings('ignore')"
   ]
  },
  {
   "cell_type": "code",
   "execution_count": 2,
   "metadata": {},
   "outputs": [],
   "source": [
    "df = pd.read_csv('data/ames_train.csv') # Ames housing data\n",
    "\n",
    "# Drop sale detail columns \n",
    "df = df.drop(columns = ['Id', 'MoSold', 'YrSold', 'SaleType', 'SaleCondition'])\n",
    "\n",
    "# Create X and y\n",
    "y = df['SalePrice']\n",
    "X = df.drop(columns=['SalePrice'], axis=1)\n",
    "\n",
    "# Split data into training and test sets\n",
    "X_train, X_test, y_train, y_test = train_test_split(X, y, random_state=42)"
   ]
  },
  {
   "cell_type": "markdown",
   "metadata": {},
   "source": [
    "### Time to Clean/Process"
   ]
  },
  {
   "cell_type": "code",
   "execution_count": 3,
   "metadata": {},
   "outputs": [
    {
     "name": "stdout",
     "output_type": "stream",
     "text": [
      "<class 'pandas.core.frame.DataFrame'>\n",
      "Int64Index: 1095 entries, 1023 to 1126\n",
      "Data columns (total 75 columns):\n",
      "MSSubClass       1095 non-null int64\n",
      "MSZoning         1095 non-null object\n",
      "LotFrontage      895 non-null float64\n",
      "LotArea          1095 non-null int64\n",
      "Street           1095 non-null object\n",
      "Alley            70 non-null object\n",
      "LotShape         1095 non-null object\n",
      "LandContour      1095 non-null object\n",
      "Utilities        1095 non-null object\n",
      "LotConfig        1095 non-null object\n",
      "LandSlope        1095 non-null object\n",
      "Neighborhood     1095 non-null object\n",
      "Condition1       1095 non-null object\n",
      "Condition2       1095 non-null object\n",
      "BldgType         1095 non-null object\n",
      "HouseStyle       1095 non-null object\n",
      "OverallQual      1095 non-null int64\n",
      "OverallCond      1095 non-null int64\n",
      "YearBuilt        1095 non-null int64\n",
      "YearRemodAdd     1095 non-null int64\n",
      "RoofStyle        1095 non-null object\n",
      "RoofMatl         1095 non-null object\n",
      "Exterior1st      1095 non-null object\n",
      "Exterior2nd      1095 non-null object\n",
      "MasVnrType       1091 non-null object\n",
      "MasVnrArea       1091 non-null float64\n",
      "ExterQual        1095 non-null object\n",
      "ExterCond        1095 non-null object\n",
      "Foundation       1095 non-null object\n",
      "BsmtQual         1068 non-null object\n",
      "BsmtCond         1068 non-null object\n",
      "BsmtExposure     1068 non-null object\n",
      "BsmtFinType1     1068 non-null object\n",
      "BsmtFinSF1       1095 non-null int64\n",
      "BsmtFinType2     1068 non-null object\n",
      "BsmtFinSF2       1095 non-null int64\n",
      "BsmtUnfSF        1095 non-null int64\n",
      "TotalBsmtSF      1095 non-null int64\n",
      "Heating          1095 non-null object\n",
      "HeatingQC        1095 non-null object\n",
      "CentralAir       1095 non-null object\n",
      "Electrical       1094 non-null object\n",
      "1stFlrSF         1095 non-null int64\n",
      "2ndFlrSF         1095 non-null int64\n",
      "LowQualFinSF     1095 non-null int64\n",
      "GrLivArea        1095 non-null int64\n",
      "BsmtFullBath     1095 non-null int64\n",
      "BsmtHalfBath     1095 non-null int64\n",
      "FullBath         1095 non-null int64\n",
      "HalfBath         1095 non-null int64\n",
      "BedroomAbvGr     1095 non-null int64\n",
      "KitchenAbvGr     1095 non-null int64\n",
      "KitchenQual      1095 non-null object\n",
      "TotRmsAbvGrd     1095 non-null int64\n",
      "Functional       1095 non-null object\n",
      "Fireplaces       1095 non-null int64\n",
      "FireplaceQu      583 non-null object\n",
      "GarageType       1037 non-null object\n",
      "GarageYrBlt      1037 non-null float64\n",
      "GarageFinish     1037 non-null object\n",
      "GarageCars       1095 non-null int64\n",
      "GarageArea       1095 non-null int64\n",
      "GarageQual       1037 non-null object\n",
      "GarageCond       1037 non-null object\n",
      "PavedDrive       1095 non-null object\n",
      "WoodDeckSF       1095 non-null int64\n",
      "OpenPorchSF      1095 non-null int64\n",
      "EnclosedPorch    1095 non-null int64\n",
      "3SsnPorch        1095 non-null int64\n",
      "ScreenPorch      1095 non-null int64\n",
      "PoolArea         1095 non-null int64\n",
      "PoolQC           6 non-null object\n",
      "Fence            218 non-null object\n",
      "MiscFeature      43 non-null object\n",
      "MiscVal          1095 non-null int64\n",
      "dtypes: float64(3), int64(31), object(41)\n",
      "memory usage: 650.2+ KB\n"
     ]
    }
   ],
   "source": [
    "# Explore X_train\n",
    "X_train.info()"
   ]
  },
  {
   "cell_type": "code",
   "execution_count": 4,
   "metadata": {
    "scrolled": true
   },
   "outputs": [
    {
     "data": {
      "text/plain": [
       "PoolQC          0.994521\n",
       "MiscFeature     0.960731\n",
       "Alley           0.936073\n",
       "Fence           0.800913\n",
       "FireplaceQu     0.467580\n",
       "LotFrontage     0.182648\n",
       "GarageQual      0.052968\n",
       "GarageType      0.052968\n",
       "GarageYrBlt     0.052968\n",
       "GarageFinish    0.052968\n",
       "dtype: float64"
      ]
     },
     "execution_count": 4,
     "metadata": {},
     "output_type": "execute_result"
    }
   ],
   "source": [
    "# Let's check the percentage of our training data that's null per column\n",
    "null_perc = X_train.isna().sum() / len(X_train)\n",
    "null_perc.sort_values(ascending=False).head(10)"
   ]
  },
  {
   "cell_type": "code",
   "execution_count": 5,
   "metadata": {},
   "outputs": [
    {
     "name": "stdout",
     "output_type": "stream",
     "text": [
      "['LotFrontage', 'Alley', 'FireplaceQu', 'PoolQC', 'Fence', 'MiscFeature']\n"
     ]
    }
   ],
   "source": [
    "# Drop where nulls are more than 10% of column\n",
    "null_cols_to_drop = list(null_perc.loc[null_perc > 0.1].index)\n",
    "print(null_cols_to_drop)\n",
    "\n",
    "X_train = X_train.drop(null_cols_to_drop, axis=1)\n",
    "X_test = X_test.drop(null_cols_to_drop, axis=1)"
   ]
  },
  {
   "cell_type": "code",
   "execution_count": 6,
   "metadata": {},
   "outputs": [
    {
     "name": "stdout",
     "output_type": "stream",
     "text": [
      "int64\n",
      "float64\n"
     ]
    }
   ],
   "source": [
    "# Start with the continuous variables\n",
    "print(X_train['Fireplaces'].dtype)\n",
    "print(X_train['GarageYrBlt'].dtype)\n",
    "\n",
    "num_tpyes = ['int64', 'float64']\n",
    "\n",
    "# Grab only numeric features\n",
    "num_cols = []\n",
    "for col in X_train.columns:\n",
    "    if X_train[col].dtype in num_tpyes:\n",
    "        num_cols.append(col)\n",
    "\n",
    "# list comprehension\n",
    "# num_cols = [c for c in X_train.columns if X_train[c].dtype in num_types]"
   ]
  },
  {
   "cell_type": "code",
   "execution_count": 7,
   "metadata": {},
   "outputs": [
    {
     "name": "stdout",
     "output_type": "stream",
     "text": [
      "<class 'pandas.core.frame.DataFrame'>\n",
      "Int64Index: 1095 entries, 1023 to 1126\n",
      "Data columns (total 33 columns):\n",
      "MSSubClass       1095 non-null int64\n",
      "LotArea          1095 non-null int64\n",
      "OverallQual      1095 non-null int64\n",
      "OverallCond      1095 non-null int64\n",
      "YearBuilt        1095 non-null int64\n",
      "YearRemodAdd     1095 non-null int64\n",
      "MasVnrArea       1091 non-null float64\n",
      "BsmtFinSF1       1095 non-null int64\n",
      "BsmtFinSF2       1095 non-null int64\n",
      "BsmtUnfSF        1095 non-null int64\n",
      "TotalBsmtSF      1095 non-null int64\n",
      "1stFlrSF         1095 non-null int64\n",
      "2ndFlrSF         1095 non-null int64\n",
      "LowQualFinSF     1095 non-null int64\n",
      "GrLivArea        1095 non-null int64\n",
      "BsmtFullBath     1095 non-null int64\n",
      "BsmtHalfBath     1095 non-null int64\n",
      "FullBath         1095 non-null int64\n",
      "HalfBath         1095 non-null int64\n",
      "BedroomAbvGr     1095 non-null int64\n",
      "KitchenAbvGr     1095 non-null int64\n",
      "TotRmsAbvGrd     1095 non-null int64\n",
      "Fireplaces       1095 non-null int64\n",
      "GarageYrBlt      1037 non-null float64\n",
      "GarageCars       1095 non-null int64\n",
      "GarageArea       1095 non-null int64\n",
      "WoodDeckSF       1095 non-null int64\n",
      "OpenPorchSF      1095 non-null int64\n",
      "EnclosedPorch    1095 non-null int64\n",
      "3SsnPorch        1095 non-null int64\n",
      "ScreenPorch      1095 non-null int64\n",
      "PoolArea         1095 non-null int64\n",
      "MiscVal          1095 non-null int64\n",
      "dtypes: float64(2), int64(31)\n",
      "memory usage: 290.9 KB\n"
     ]
    }
   ],
   "source": [
    "X_train[num_cols].info()"
   ]
  },
  {
   "cell_type": "code",
   "execution_count": 8,
   "metadata": {},
   "outputs": [],
   "source": [
    "X_train_cont = X_train[num_cols]\n",
    "X_test_cont = X_test[num_cols]"
   ]
  },
  {
   "cell_type": "code",
   "execution_count": 9,
   "metadata": {},
   "outputs": [],
   "source": [
    "# Impute missing values with 0 using SimpleImputer\n",
    "# (most columns look like they just don't have details)\n",
    "imputer = SimpleImputer(strategy='constant', fill_value=0)\n",
    "\n",
    "X_train_impute = imputer.fit_transform(X_train_cont)\n",
    "X_test_impute = imputer.transform(X_test_cont)"
   ]
  },
  {
   "cell_type": "code",
   "execution_count": 10,
   "metadata": {},
   "outputs": [],
   "source": [
    "# Scale the train and test data\n",
    "scaler = MinMaxScaler()\n",
    "\n",
    "X_train_imsc = scaler.fit_transform(X_train_impute)\n",
    "X_test_imsc = scaler.transform(X_test_impute)"
   ]
  },
  {
   "cell_type": "code",
   "execution_count": 11,
   "metadata": {},
   "outputs": [
    {
     "data": {
      "text/plain": [
       "1023    RL\n",
       "810     RL\n",
       "1384    RL\n",
       "626     RL\n",
       "813     RL\n",
       "        ..\n",
       "1095    RL\n",
       "1130    RL\n",
       "1294    RL\n",
       "860     RL\n",
       "1126    RL\n",
       "Name: MSZoning, Length: 1095, dtype: object"
      ]
     },
     "execution_count": 11,
     "metadata": {},
     "output_type": "execute_result"
    }
   ],
   "source": [
    "X_train['MSZoning']"
   ]
  },
  {
   "cell_type": "code",
   "execution_count": 12,
   "metadata": {},
   "outputs": [],
   "source": [
    "# Now time for the categorical columns\n",
    "\n",
    "# Create X_cat which contains only the categorical variables\n",
    "cat_cols = [c for c in X_train.columns if X_train[c].dtype in ['object']]\n",
    "\n",
    "X_train_cat = X_train[cat_cols]\n",
    "X_test_cat = X_test[cat_cols]\n",
    "\n",
    "# Fill missing values with the string 'missing'\n",
    "X_train_cat = X_train_cat.fillna(value='missing')\n",
    "X_test_cat = X_test_cat.fillna(value='missing')\n",
    "\n",
    "# Same as:\n",
    "# imputer_cat = SimpleImputer(strategy='constant', fill_value='missing')\n",
    "# imputer_cat.fit_transform(X_train_cat)\n",
    "# imputer_cat.transform(X_test_cat)"
   ]
  },
  {
   "cell_type": "code",
   "execution_count": 13,
   "metadata": {
    "scrolled": false
   },
   "outputs": [
    {
     "data": {
      "text/plain": [
       "RL         0.790868\n",
       "RM         0.149772\n",
       "FV         0.042922\n",
       "RH         0.012785\n",
       "C (all)    0.003653\n",
       "Name: MSZoning, dtype: float64"
      ]
     },
     "metadata": {},
     "output_type": "display_data"
    },
    {
     "data": {
      "text/plain": [
       "Pave    0.996347\n",
       "Grvl    0.003653\n",
       "Name: Street, dtype: float64"
      ]
     },
     "metadata": {},
     "output_type": "display_data"
    },
    {
     "data": {
      "text/plain": [
       "Reg    0.621918\n",
       "IR1    0.338813\n",
       "IR2    0.031963\n",
       "IR3    0.007306\n",
       "Name: LotShape, dtype: float64"
      ]
     },
     "metadata": {},
     "output_type": "display_data"
    },
    {
     "data": {
      "text/plain": [
       "Lvl    0.905936\n",
       "Bnk    0.041096\n",
       "HLS    0.029224\n",
       "Low    0.023744\n",
       "Name: LandContour, dtype: float64"
      ]
     },
     "metadata": {},
     "output_type": "display_data"
    },
    {
     "data": {
      "text/plain": [
       "AllPub    0.999087\n",
       "NoSeWa    0.000913\n",
       "Name: Utilities, dtype: float64"
      ]
     },
     "metadata": {},
     "output_type": "display_data"
    },
    {
     "data": {
      "text/plain": [
       "Inside     0.699543\n",
       "Corner     0.190868\n",
       "CulDSac    0.073059\n",
       "FR2        0.033790\n",
       "FR3        0.002740\n",
       "Name: LotConfig, dtype: float64"
      ]
     },
     "metadata": {},
     "output_type": "display_data"
    },
    {
     "data": {
      "text/plain": [
       "Gtl    0.946119\n",
       "Mod    0.045662\n",
       "Sev    0.008219\n",
       "Name: LandSlope, dtype: float64"
      ]
     },
     "metadata": {},
     "output_type": "display_data"
    },
    {
     "data": {
      "text/plain": [
       "NAmes      0.152511\n",
       "CollgCr    0.102283\n",
       "OldTown    0.079452\n",
       "Edwards    0.075799\n",
       "Somerst    0.056621\n",
       "NWAmes     0.054795\n",
       "Gilbert    0.053881\n",
       "NridgHt    0.052968\n",
       "Sawyer     0.046575\n",
       "BrkSide    0.040183\n",
       "SawyerW    0.036530\n",
       "Crawfor    0.035616\n",
       "Mitchel    0.034703\n",
       "NoRidge    0.028311\n",
       "Timber     0.024658\n",
       "IDOTRR     0.022831\n",
       "StoneBr    0.018265\n",
       "ClearCr    0.017352\n",
       "SWISU      0.016438\n",
       "Blmngtn    0.013699\n",
       "BrDale     0.011872\n",
       "MeadowV    0.009132\n",
       "Veenker    0.008219\n",
       "NPkVill    0.006393\n",
       "Blueste    0.000913\n",
       "Name: Neighborhood, dtype: float64"
      ]
     },
     "metadata": {},
     "output_type": "display_data"
    },
    {
     "data": {
      "text/plain": [
       "Norm      0.863927\n",
       "Feedr     0.053881\n",
       "Artery    0.033790\n",
       "RRAn      0.015525\n",
       "PosN      0.012785\n",
       "RRAe      0.009132\n",
       "PosA      0.005479\n",
       "RRNn      0.004566\n",
       "RRNe      0.000913\n",
       "Name: Condition1, dtype: float64"
      ]
     },
     "metadata": {},
     "output_type": "display_data"
    },
    {
     "data": {
      "text/plain": [
       "Norm      0.991781\n",
       "Feedr     0.002740\n",
       "PosN      0.001826\n",
       "Artery    0.001826\n",
       "RRAe      0.000913\n",
       "RRAn      0.000913\n",
       "Name: Condition2, dtype: float64"
      ]
     },
     "metadata": {},
     "output_type": "display_data"
    },
    {
     "data": {
      "text/plain": [
       "1Fam      0.835616\n",
       "TwnhsE    0.076712\n",
       "Duplex    0.033790\n",
       "Twnhs     0.029224\n",
       "2fmCon    0.024658\n",
       "Name: BldgType, dtype: float64"
      ]
     },
     "metadata": {},
     "output_type": "display_data"
    },
    {
     "data": {
      "text/plain": [
       "1Story    0.494064\n",
       "2Story    0.309589\n",
       "1.5Fin    0.104110\n",
       "SLvl      0.045662\n",
       "SFoyer    0.021005\n",
       "1.5Unf    0.010046\n",
       "2.5Unf    0.009132\n",
       "2.5Fin    0.006393\n",
       "Name: HouseStyle, dtype: float64"
      ]
     },
     "metadata": {},
     "output_type": "display_data"
    },
    {
     "data": {
      "text/plain": [
       "Gable      0.769863\n",
       "Hip        0.205479\n",
       "Flat       0.010046\n",
       "Gambrel    0.008219\n",
       "Mansard    0.004566\n",
       "Shed       0.001826\n",
       "Name: RoofStyle, dtype: float64"
      ]
     },
     "metadata": {},
     "output_type": "display_data"
    },
    {
     "data": {
      "text/plain": [
       "CompShg    0.982648\n",
       "Tar&Grv    0.008219\n",
       "WdShngl    0.003653\n",
       "WdShake    0.002740\n",
       "Metal      0.000913\n",
       "ClyTile    0.000913\n",
       "Roll       0.000913\n",
       "Name: RoofMatl, dtype: float64"
      ]
     },
     "metadata": {},
     "output_type": "display_data"
    },
    {
     "data": {
      "text/plain": [
       "VinylSd    0.359817\n",
       "HdBoard    0.152511\n",
       "MetalSd    0.146119\n",
       "Wd Sdng    0.145205\n",
       "Plywood    0.068493\n",
       "CemntBd    0.038356\n",
       "BrkFace    0.034703\n",
       "Stucco     0.017352\n",
       "WdShing    0.017352\n",
       "AsbShng    0.014612\n",
       "BrkComm    0.001826\n",
       "CBlock     0.000913\n",
       "Stone      0.000913\n",
       "ImStucc    0.000913\n",
       "AsphShn    0.000913\n",
       "Name: Exterior1st, dtype: float64"
      ]
     },
     "metadata": {},
     "output_type": "display_data"
    },
    {
     "data": {
      "text/plain": [
       "VinylSd    0.351598\n",
       "HdBoard    0.140639\n",
       "Wd Sdng    0.140639\n",
       "MetalSd    0.139726\n",
       "Plywood    0.094064\n",
       "CmentBd    0.037443\n",
       "Wd Shng    0.029224\n",
       "Stucco     0.019178\n",
       "AsbShng    0.015525\n",
       "BrkFace    0.013699\n",
       "Brk Cmn    0.005479\n",
       "ImStucc    0.005479\n",
       "Stone      0.002740\n",
       "AsphShn    0.002740\n",
       "CBlock     0.000913\n",
       "Other      0.000913\n",
       "Name: Exterior2nd, dtype: float64"
      ]
     },
     "metadata": {},
     "output_type": "display_data"
    },
    {
     "data": {
      "text/plain": [
       "None       0.579909\n",
       "BrkFace    0.315068\n",
       "Stone      0.090411\n",
       "BrkCmn     0.010959\n",
       "missing    0.003653\n",
       "Name: MasVnrType, dtype: float64"
      ]
     },
     "metadata": {},
     "output_type": "display_data"
    },
    {
     "data": {
      "text/plain": [
       "TA    0.622831\n",
       "Gd    0.331507\n",
       "Ex    0.035616\n",
       "Fa    0.010046\n",
       "Name: ExterQual, dtype: float64"
      ]
     },
     "metadata": {},
     "output_type": "display_data"
    },
    {
     "data": {
      "text/plain": [
       "TA    0.876712\n",
       "Gd    0.098630\n",
       "Fa    0.021918\n",
       "Ex    0.001826\n",
       "Po    0.000913\n",
       "Name: ExterCond, dtype: float64"
      ]
     },
     "metadata": {},
     "output_type": "display_data"
    },
    {
     "data": {
      "text/plain": [
       "PConc     0.449315\n",
       "CBlock    0.427397\n",
       "BrkTil    0.098630\n",
       "Slab      0.017352\n",
       "Stone     0.004566\n",
       "Wood      0.002740\n",
       "Name: Foundation, dtype: float64"
      ]
     },
     "metadata": {},
     "output_type": "display_data"
    },
    {
     "data": {
      "text/plain": [
       "TA         0.442922\n",
       "Gd         0.421005\n",
       "Ex         0.085845\n",
       "Fa         0.025571\n",
       "missing    0.024658\n",
       "Name: BsmtQual, dtype: float64"
      ]
     },
     "metadata": {},
     "output_type": "display_data"
    },
    {
     "data": {
      "text/plain": [
       "TA         0.892237\n",
       "Gd         0.047489\n",
       "Fa         0.034703\n",
       "missing    0.024658\n",
       "Po         0.000913\n",
       "Name: BsmtCond, dtype: float64"
      ]
     },
     "metadata": {},
     "output_type": "display_data"
    },
    {
     "data": {
      "text/plain": [
       "No         0.656621\n",
       "Av         0.148858\n",
       "Gd         0.089498\n",
       "Mn         0.080365\n",
       "missing    0.024658\n",
       "Name: BsmtExposure, dtype: float64"
      ]
     },
     "metadata": {},
     "output_type": "display_data"
    },
    {
     "data": {
      "text/plain": [
       "Unf        0.287671\n",
       "GLQ        0.285845\n",
       "ALQ        0.155251\n",
       "BLQ        0.102283\n",
       "Rec        0.092237\n",
       "LwQ        0.052055\n",
       "missing    0.024658\n",
       "Name: BsmtFinType1, dtype: float64"
      ]
     },
     "metadata": {},
     "output_type": "display_data"
    },
    {
     "data": {
      "text/plain": [
       "Unf        0.863927\n",
       "Rec        0.038356\n",
       "LwQ        0.030137\n",
       "missing    0.024658\n",
       "BLQ        0.018265\n",
       "ALQ        0.015525\n",
       "GLQ        0.009132\n",
       "Name: BsmtFinType2, dtype: float64"
      ]
     },
     "metadata": {},
     "output_type": "display_data"
    },
    {
     "data": {
      "text/plain": [
       "GasA     0.977169\n",
       "GasW     0.013699\n",
       "Grav     0.003653\n",
       "Wall     0.002740\n",
       "OthW     0.001826\n",
       "Floor    0.000913\n",
       "Name: Heating, dtype: float64"
      ]
     },
     "metadata": {},
     "output_type": "display_data"
    },
    {
     "data": {
      "text/plain": [
       "Ex    0.506849\n",
       "TA    0.291324\n",
       "Gd    0.165297\n",
       "Fa    0.035616\n",
       "Po    0.000913\n",
       "Name: HeatingQC, dtype: float64"
      ]
     },
     "metadata": {},
     "output_type": "display_data"
    },
    {
     "data": {
      "text/plain": [
       "Y    0.928767\n",
       "N    0.071233\n",
       "Name: CentralAir, dtype: float64"
      ]
     },
     "metadata": {},
     "output_type": "display_data"
    },
    {
     "data": {
      "text/plain": [
       "SBrkr      0.915068\n",
       "FuseA      0.060274\n",
       "FuseF      0.021005\n",
       "FuseP      0.002740\n",
       "missing    0.000913\n",
       "Name: Electrical, dtype: float64"
      ]
     },
     "metadata": {},
     "output_type": "display_data"
    },
    {
     "data": {
      "text/plain": [
       "TA    0.502283\n",
       "Gd    0.401826\n",
       "Ex    0.066667\n",
       "Fa    0.029224\n",
       "Name: KitchenQual, dtype: float64"
      ]
     },
     "metadata": {},
     "output_type": "display_data"
    },
    {
     "data": {
      "text/plain": [
       "Typ     0.925114\n",
       "Min2    0.025571\n",
       "Min1    0.024658\n",
       "Mod     0.011872\n",
       "Maj1    0.008219\n",
       "Maj2    0.003653\n",
       "Sev     0.000913\n",
       "Name: Functional, dtype: float64"
      ]
     },
     "metadata": {},
     "output_type": "display_data"
    },
    {
     "data": {
      "text/plain": [
       "Attchd     0.594521\n",
       "Detchd     0.263927\n",
       "BuiltIn    0.063014\n",
       "missing    0.052968\n",
       "Basment    0.013699\n",
       "CarPort    0.006393\n",
       "2Types     0.005479\n",
       "Name: GarageType, dtype: float64"
      ]
     },
     "metadata": {},
     "output_type": "display_data"
    },
    {
     "data": {
      "text/plain": [
       "Unf        0.410046\n",
       "RFn        0.293151\n",
       "Fin        0.243836\n",
       "missing    0.052968\n",
       "Name: GarageFinish, dtype: float64"
      ]
     },
     "metadata": {},
     "output_type": "display_data"
    },
    {
     "data": {
      "text/plain": [
       "TA         0.900457\n",
       "missing    0.052968\n",
       "Fa         0.031963\n",
       "Gd         0.010959\n",
       "Ex         0.002740\n",
       "Po         0.000913\n",
       "Name: GarageQual, dtype: float64"
      ]
     },
     "metadata": {},
     "output_type": "display_data"
    },
    {
     "data": {
      "text/plain": [
       "TA         0.908676\n",
       "missing    0.052968\n",
       "Fa         0.024658\n",
       "Gd         0.008219\n",
       "Po         0.003653\n",
       "Ex         0.001826\n",
       "Name: GarageCond, dtype: float64"
      ]
     },
     "metadata": {},
     "output_type": "display_data"
    },
    {
     "data": {
      "text/plain": [
       "Y    0.916895\n",
       "N    0.061187\n",
       "P    0.021918\n",
       "Name: PavedDrive, dtype: float64"
      ]
     },
     "metadata": {},
     "output_type": "display_data"
    }
   ],
   "source": [
    "# Exploring column percentages\n",
    "\n",
    "# Let's remove any column where the most common value is more than 90% of that col\n",
    "col_to_drop = []\n",
    "for col in X_train_cat.columns:\n",
    "    col_series = X_train_cat[col].value_counts()\n",
    "    display(col_series/len(X_train_cat))\n",
    "    \n",
    "    if col_series[0]/len(X_train_cat) > .9:\n",
    "        col_to_drop.append(col)"
   ]
  },
  {
   "cell_type": "code",
   "execution_count": 14,
   "metadata": {},
   "outputs": [
    {
     "data": {
      "text/plain": [
       "['Street',\n",
       " 'LandContour',\n",
       " 'Utilities',\n",
       " 'LandSlope',\n",
       " 'Condition2',\n",
       " 'RoofMatl',\n",
       " 'Heating',\n",
       " 'CentralAir',\n",
       " 'Electrical',\n",
       " 'Functional',\n",
       " 'GarageQual',\n",
       " 'GarageCond',\n",
       " 'PavedDrive']"
      ]
     },
     "execution_count": 14,
     "metadata": {},
     "output_type": "execute_result"
    }
   ],
   "source": [
    "col_to_drop"
   ]
  },
  {
   "cell_type": "code",
   "execution_count": 15,
   "metadata": {},
   "outputs": [],
   "source": [
    "# Now drop those\n",
    "X_train_cat = X_train_cat.drop(col_to_drop, axis=1)\n",
    "X_test_cat = X_test_cat.drop(col_to_drop, axis=1)"
   ]
  },
  {
   "cell_type": "code",
   "execution_count": 16,
   "metadata": {},
   "outputs": [],
   "source": [
    "# OneHotEncode categorical variables\n",
    "ohe = OneHotEncoder(handle_unknown='ignore')\n",
    "\n",
    "X_train_ohe = ohe.fit_transform(X_train_cat)\n",
    "X_test_ohe = ohe.transform(X_test_cat)\n",
    "\n",
    "# Convert these columns into a DataFrame \n",
    "ohe_col_names = ohe.get_feature_names(input_features=X_train_cat.columns)\n",
    " \n",
    "cat_train_df = pd.DataFrame(X_train_ohe.todense(), columns=ohe_col_names)\n",
    "cat_test_df = pd.DataFrame(X_test_ohe.todense(), columns=ohe_col_names)"
   ]
  },
  {
   "cell_type": "markdown",
   "metadata": {},
   "source": [
    ".todense() returns a matrix"
   ]
  },
  {
   "cell_type": "code",
   "execution_count": 17,
   "metadata": {},
   "outputs": [
    {
     "name": "stdout",
     "output_type": "stream",
     "text": [
      "<class 'pandas.core.frame.DataFrame'>\n",
      "RangeIndex: 1095 entries, 0 to 1094\n",
      "Columns: 167 entries, MSZoning_C (all) to GarageFinish_missing\n",
      "dtypes: float64(167)\n",
      "memory usage: 1.4 MB\n"
     ]
    }
   ],
   "source": [
    "cat_train_df.info()"
   ]
  },
  {
   "cell_type": "code",
   "execution_count": 18,
   "metadata": {},
   "outputs": [
    {
     "data": {
      "text/plain": [
       "LinearRegression()"
      ]
     },
     "execution_count": 18,
     "metadata": {},
     "output_type": "execute_result"
    }
   ],
   "source": [
    "# Put it all back together\n",
    "X_train_all = pd.concat([pd.DataFrame(X_train_imsc), cat_train_df], axis=1)\n",
    "X_test_all = pd.concat([pd.DataFrame(X_test_imsc), cat_test_df], axis=1)\n",
    "\n",
    "# Fit the model\n",
    "linreg = LinearRegression()\n",
    "linreg.fit(X_train_all, y_train)"
   ]
  },
  {
   "cell_type": "code",
   "execution_count": 19,
   "metadata": {},
   "outputs": [],
   "source": [
    "# Write a quick evaluation function\n",
    "def evaluate(train_actual, train_predicted, test_actual, test_predicted):\n",
    "    '''\n",
    "    Takes in both actual and predicted values, for the train and test set\n",
    "    Then prints the scores based on those values\n",
    "    \n",
    "    Inputs:\n",
    "    -------\n",
    "    train_actual - actual target values for the train set\n",
    "    train_predicted - predicted target values for the train set\n",
    "    test_actual - actual target values for the test set\n",
    "    test_predicted - predicted target values for the test set\n",
    "    '''\n",
    "    print('Train R2:', r2_score(train_actual, train_predicted))\n",
    "    print('Test R2:', r2_score(test_actual, test_predicted))\n",
    "    print(\"*****\")\n",
    "    print('Train MSE:', mean_squared_error(train_actual, train_predicted))\n",
    "    print('Test MSE:', mean_squared_error(test_actual, test_predicted))\n",
    "    print(\"*****\")\n",
    "    print('Train RMSE:', mean_squared_error(train_actual, train_predicted, squared=False))\n",
    "    print('Test RMSE:', mean_squared_error(test_actual, test_predicted, squared=False))"
   ]
  },
  {
   "cell_type": "code",
   "execution_count": 20,
   "metadata": {
    "scrolled": false
   },
   "outputs": [
    {
     "name": "stdout",
     "output_type": "stream",
     "text": [
      "Train R2: 0.8902014242430607\n",
      "Test R2: -2.1663313578071472e+17\n",
      "*****\n",
      "Train MSE: 666636028.1309931\n",
      "Test MSE: 1.517582067121294e+27\n",
      "*****\n",
      "Train RMSE: 25819.29565520704\n",
      "Test RMSE: 38956155702549.68\n"
     ]
    }
   ],
   "source": [
    "# Grab predictions and evaluate\n",
    "train_preds = linreg.predict(X_train_all)\n",
    "test_preds = linreg.predict(X_test_all)\n",
    "\n",
    "evaluate(y_train, train_preds, y_test, test_preds)"
   ]
  },
  {
   "cell_type": "code",
   "execution_count": 21,
   "metadata": {},
   "outputs": [],
   "source": [
    "# Let's wrap up that coefficient exploration in a function\n",
    "def eval_coefficients(model, column_names):\n",
    "    '''\n",
    "    Prints an exploration of the coefficients\n",
    "    \n",
    "    Inputs:\n",
    "    model - a fit linear model (sklearn)\n",
    "    column_names - a list of feature names that matches the order passed into the model\n",
    "    \n",
    "    Outputs:\n",
    "    coefs - a Series, sorted by coefficient value\n",
    "    '''\n",
    "\n",
    "    print(\"Total number of coefficients: \", len(model.coef_))\n",
    "    print(\"Coefficients close to zero: \", sum(abs(model.coef_) < 10**(-10)))\n",
    "    print(f\"Intercept: {model.intercept_}\")\n",
    "    \n",
    "    coefs = pd.Series(model.coef_, index= column_names)\n",
    "    display(coefs.sort_values(ascending=False))\n",
    "    return coefs.sort_values(ascending=False)"
   ]
  },
  {
   "cell_type": "code",
   "execution_count": 22,
   "metadata": {},
   "outputs": [
    {
     "data": {
      "text/html": [
       "<div>\n",
       "<style scoped>\n",
       "    .dataframe tbody tr th:only-of-type {\n",
       "        vertical-align: middle;\n",
       "    }\n",
       "\n",
       "    .dataframe tbody tr th {\n",
       "        vertical-align: top;\n",
       "    }\n",
       "\n",
       "    .dataframe thead th {\n",
       "        text-align: right;\n",
       "    }\n",
       "</style>\n",
       "<table border=\"1\" class=\"dataframe\">\n",
       "  <thead>\n",
       "    <tr style=\"text-align: right;\">\n",
       "      <th></th>\n",
       "      <th>0</th>\n",
       "      <th>1</th>\n",
       "      <th>2</th>\n",
       "      <th>3</th>\n",
       "      <th>4</th>\n",
       "      <th>5</th>\n",
       "      <th>6</th>\n",
       "      <th>7</th>\n",
       "      <th>8</th>\n",
       "      <th>9</th>\n",
       "      <th>...</th>\n",
       "      <th>GarageType_Attchd</th>\n",
       "      <th>GarageType_Basment</th>\n",
       "      <th>GarageType_BuiltIn</th>\n",
       "      <th>GarageType_CarPort</th>\n",
       "      <th>GarageType_Detchd</th>\n",
       "      <th>GarageType_missing</th>\n",
       "      <th>GarageFinish_Fin</th>\n",
       "      <th>GarageFinish_RFn</th>\n",
       "      <th>GarageFinish_Unf</th>\n",
       "      <th>GarageFinish_missing</th>\n",
       "    </tr>\n",
       "  </thead>\n",
       "  <tbody>\n",
       "    <tr>\n",
       "      <th>0</th>\n",
       "      <td>0.588235</td>\n",
       "      <td>0.008797</td>\n",
       "      <td>0.666667</td>\n",
       "      <td>0.500</td>\n",
       "      <td>0.963768</td>\n",
       "      <td>0.933333</td>\n",
       "      <td>0.010160</td>\n",
       "      <td>0.002835</td>\n",
       "      <td>0.000000</td>\n",
       "      <td>0.569349</td>\n",
       "      <td>...</td>\n",
       "      <td>1.0</td>\n",
       "      <td>0.0</td>\n",
       "      <td>0.0</td>\n",
       "      <td>0.0</td>\n",
       "      <td>0.0</td>\n",
       "      <td>0.0</td>\n",
       "      <td>1.0</td>\n",
       "      <td>0.0</td>\n",
       "      <td>0.0</td>\n",
       "      <td>0.0</td>\n",
       "    </tr>\n",
       "    <tr>\n",
       "      <th>1</th>\n",
       "      <td>0.000000</td>\n",
       "      <td>0.041319</td>\n",
       "      <td>0.555556</td>\n",
       "      <td>0.625</td>\n",
       "      <td>0.739130</td>\n",
       "      <td>0.816667</td>\n",
       "      <td>0.071843</td>\n",
       "      <td>0.117470</td>\n",
       "      <td>0.334516</td>\n",
       "      <td>0.000000</td>\n",
       "      <td>...</td>\n",
       "      <td>1.0</td>\n",
       "      <td>0.0</td>\n",
       "      <td>0.0</td>\n",
       "      <td>0.0</td>\n",
       "      <td>0.0</td>\n",
       "      <td>0.0</td>\n",
       "      <td>0.0</td>\n",
       "      <td>1.0</td>\n",
       "      <td>0.0</td>\n",
       "      <td>0.0</td>\n",
       "    </tr>\n",
       "    <tr>\n",
       "      <th>2</th>\n",
       "      <td>0.176471</td>\n",
       "      <td>0.036271</td>\n",
       "      <td>0.555556</td>\n",
       "      <td>0.500</td>\n",
       "      <td>0.485507</td>\n",
       "      <td>0.000000</td>\n",
       "      <td>0.000000</td>\n",
       "      <td>0.036145</td>\n",
       "      <td>0.000000</td>\n",
       "      <td>0.152397</td>\n",
       "      <td>...</td>\n",
       "      <td>0.0</td>\n",
       "      <td>0.0</td>\n",
       "      <td>0.0</td>\n",
       "      <td>0.0</td>\n",
       "      <td>1.0</td>\n",
       "      <td>0.0</td>\n",
       "      <td>0.0</td>\n",
       "      <td>0.0</td>\n",
       "      <td>1.0</td>\n",
       "      <td>0.0</td>\n",
       "    </tr>\n",
       "    <tr>\n",
       "      <th>3</th>\n",
       "      <td>0.000000</td>\n",
       "      <td>0.051611</td>\n",
       "      <td>0.444444</td>\n",
       "      <td>0.500</td>\n",
       "      <td>0.637681</td>\n",
       "      <td>0.466667</td>\n",
       "      <td>0.000000</td>\n",
       "      <td>0.000000</td>\n",
       "      <td>0.000000</td>\n",
       "      <td>0.418664</td>\n",
       "      <td>...</td>\n",
       "      <td>1.0</td>\n",
       "      <td>0.0</td>\n",
       "      <td>0.0</td>\n",
       "      <td>0.0</td>\n",
       "      <td>0.0</td>\n",
       "      <td>0.0</td>\n",
       "      <td>0.0</td>\n",
       "      <td>1.0</td>\n",
       "      <td>0.0</td>\n",
       "      <td>0.0</td>\n",
       "    </tr>\n",
       "    <tr>\n",
       "      <th>4</th>\n",
       "      <td>0.000000</td>\n",
       "      <td>0.039496</td>\n",
       "      <td>0.555556</td>\n",
       "      <td>0.625</td>\n",
       "      <td>0.623188</td>\n",
       "      <td>0.133333</td>\n",
       "      <td>0.176343</td>\n",
       "      <td>0.107725</td>\n",
       "      <td>0.000000</td>\n",
       "      <td>0.357021</td>\n",
       "      <td>...</td>\n",
       "      <td>1.0</td>\n",
       "      <td>0.0</td>\n",
       "      <td>0.0</td>\n",
       "      <td>0.0</td>\n",
       "      <td>0.0</td>\n",
       "      <td>0.0</td>\n",
       "      <td>0.0</td>\n",
       "      <td>1.0</td>\n",
       "      <td>0.0</td>\n",
       "      <td>0.0</td>\n",
       "    </tr>\n",
       "  </tbody>\n",
       "</table>\n",
       "<p>5 rows × 200 columns</p>\n",
       "</div>"
      ],
      "text/plain": [
       "          0         1         2      3         4         5         6  \\\n",
       "0  0.588235  0.008797  0.666667  0.500  0.963768  0.933333  0.010160   \n",
       "1  0.000000  0.041319  0.555556  0.625  0.739130  0.816667  0.071843   \n",
       "2  0.176471  0.036271  0.555556  0.500  0.485507  0.000000  0.000000   \n",
       "3  0.000000  0.051611  0.444444  0.500  0.637681  0.466667  0.000000   \n",
       "4  0.000000  0.039496  0.555556  0.625  0.623188  0.133333  0.176343   \n",
       "\n",
       "          7         8         9  ...  GarageType_Attchd  GarageType_Basment  \\\n",
       "0  0.002835  0.000000  0.569349  ...                1.0                 0.0   \n",
       "1  0.117470  0.334516  0.000000  ...                1.0                 0.0   \n",
       "2  0.036145  0.000000  0.152397  ...                0.0                 0.0   \n",
       "3  0.000000  0.000000  0.418664  ...                1.0                 0.0   \n",
       "4  0.107725  0.000000  0.357021  ...                1.0                 0.0   \n",
       "\n",
       "   GarageType_BuiltIn  GarageType_CarPort  GarageType_Detchd  \\\n",
       "0                 0.0                 0.0                0.0   \n",
       "1                 0.0                 0.0                0.0   \n",
       "2                 0.0                 0.0                1.0   \n",
       "3                 0.0                 0.0                0.0   \n",
       "4                 0.0                 0.0                0.0   \n",
       "\n",
       "   GarageType_missing  GarageFinish_Fin  GarageFinish_RFn  GarageFinish_Unf  \\\n",
       "0                 0.0               1.0               0.0               0.0   \n",
       "1                 0.0               0.0               1.0               0.0   \n",
       "2                 0.0               0.0               0.0               1.0   \n",
       "3                 0.0               0.0               1.0               0.0   \n",
       "4                 0.0               0.0               1.0               0.0   \n",
       "\n",
       "   GarageFinish_missing  \n",
       "0                   0.0  \n",
       "1                   0.0  \n",
       "2                   0.0  \n",
       "3                   0.0  \n",
       "4                   0.0  \n",
       "\n",
       "[5 rows x 200 columns]"
      ]
     },
     "execution_count": 22,
     "metadata": {},
     "output_type": "execute_result"
    }
   ],
   "source": [
    "X_train_all.head()"
   ]
  },
  {
   "cell_type": "code",
   "execution_count": 23,
   "metadata": {},
   "outputs": [],
   "source": [
    "model_cols = [*X_train_cont.columns, *ohe_col_names]"
   ]
  },
  {
   "cell_type": "code",
   "execution_count": 24,
   "metadata": {},
   "outputs": [
    {
     "data": {
      "text/plain": [
       "200"
      ]
     },
     "execution_count": 24,
     "metadata": {},
     "output_type": "execute_result"
    }
   ],
   "source": [
    "len(model_cols)"
   ]
  },
  {
   "cell_type": "code",
   "execution_count": 25,
   "metadata": {
    "scrolled": true
   },
   "outputs": [
    {
     "name": "stdout",
     "output_type": "stream",
     "text": [
      "Total number of coefficients:  200\n",
      "Coefficients close to zero:  0\n",
      "Intercept: -1256971920367655.8\n"
     ]
    },
    {
     "data": {
      "text/plain": [
       "BsmtFinSF1            2.126604e+16\n",
       "HeatingQC_Ex          1.288165e+16\n",
       "HeatingQC_Fa          1.288165e+16\n",
       "HeatingQC_TA          1.288165e+16\n",
       "HeatingQC_Gd          1.288165e+16\n",
       "                          ...     \n",
       "GarageType_Attchd    -1.353207e+16\n",
       "GarageType_BuiltIn   -1.353207e+16\n",
       "GarageType_CarPort   -1.353207e+16\n",
       "GarageType_2Types    -1.353207e+16\n",
       "TotalBsmtSF          -2.302188e+16\n",
       "Length: 200, dtype: float64"
      ]
     },
     "metadata": {},
     "output_type": "display_data"
    }
   ],
   "source": [
    "# Explore coefficients\n",
    "linreg_coefs = eval_coefficients(linreg, model_cols)"
   ]
  },
  {
   "cell_type": "markdown",
   "metadata": {},
   "source": [
    "**Evaluate**\n",
    "\n",
    "- Train R2 > Test R2 : super overfitting\n",
    "- Too many dimensions => learn too much noise in this data\n",
    "- Some of the coefficients are huge numbers"
   ]
  },
  {
   "cell_type": "markdown",
   "metadata": {},
   "source": [
    "## Fitting Ridge and Lasso\n",
    "\n",
    "* https://scikit-learn.org/stable/modules/generated/sklearn.linear_model.Lasso.html\n",
    "* https://scikit-learn.org/stable/modules/generated/sklearn.linear_model.Ridge.html"
   ]
  },
  {
   "cell_type": "markdown",
   "metadata": {},
   "source": [
    "### LASSO - L1 norm\n",
    "- penalty use absolute term\n",
    "- penalize coefficient to the point they're driven to zero\n",
    "- work as feature selection"
   ]
  },
  {
   "cell_type": "code",
   "execution_count": 26,
   "metadata": {},
   "outputs": [
    {
     "name": "stdout",
     "output_type": "stream",
     "text": [
      "Train R2: 0.8901917658981585\n",
      "Test R2: 0.8615905414873006\n",
      "*****\n",
      "Train MSE: 666694668.2421192\n",
      "Test MSE: 969601032.6483967\n",
      "*****\n",
      "Train RMSE: 25820.431217199282\n",
      "Test RMSE: 31138.417311231424\n"
     ]
    },
    {
     "name": "stderr",
     "output_type": "stream",
     "text": [
      "/opt/anaconda3/envs/learn-env/lib/python3.6/site-packages/sklearn/linear_model/_coordinate_descent.py:532: ConvergenceWarning: Objective did not converge. You might want to increase the number of iterations. Duality gap: 32074011488.254944, tolerance: 664823241.805396\n",
      "  positive)\n"
     ]
    }
   ],
   "source": [
    "from sklearn.linear_model import Lasso\n",
    "\n",
    "lasso = Lasso() # Lasso is also known as the L1 norm \n",
    "\n",
    "# Fit\n",
    "lasso.fit(X_train_all, y_train)\n",
    "\n",
    "# Predict\n",
    "l_train_preds = lasso.predict(X_train_all)\n",
    "l_test_preds = lasso.predict(X_test_all)\n",
    "\n",
    "# Evaluate\n",
    "evaluate(y_train, l_train_preds, y_test, l_test_preds)"
   ]
  },
  {
   "cell_type": "code",
   "execution_count": 27,
   "metadata": {},
   "outputs": [
    {
     "name": "stdout",
     "output_type": "stream",
     "text": [
      "Train R2: 0.8896209715692706\n",
      "Test R2: 0.8670106565368062\n",
      "*****\n",
      "Train MSE: 670160214.6908449\n",
      "Test MSE: 931631451.6273745\n",
      "*****\n",
      "Train RMSE: 25887.452842851206\n",
      "Test RMSE: 30522.638346436805\n"
     ]
    }
   ],
   "source": [
    "# Adjust HYPERPARAMETERS -- check documentation!\n",
    "lasso_v2 = Lasso(alpha=10)\n",
    "\n",
    "lasso_v2.fit(X_train_all, y_train)\n",
    "\n",
    "l_train_preds_v2 = lasso_v2.predict(X_train_all)\n",
    "l_test_preds_v2 = lasso_v2.predict(X_test_all)\n",
    "\n",
    "evaluate(y_train, l_train_preds_v2, y_test, l_test_preds_v2)"
   ]
  },
  {
   "cell_type": "code",
   "execution_count": 28,
   "metadata": {},
   "outputs": [
    {
     "name": "stdout",
     "output_type": "stream",
     "text": [
      "Total number of coefficients:  200\n",
      "Coefficients close to zero:  42\n",
      "Intercept: -32987.261732734885\n"
     ]
    },
    {
     "data": {
      "text/plain": [
       "GrLivArea               144199.948743\n",
       "OverallQual              76181.228725\n",
       "LotArea                  65937.181741\n",
       "2ndFlrSF                 60865.832960\n",
       "Neighborhood_StoneBr     57520.664444\n",
       "                            ...      \n",
       "BldgType_TwnhsE         -21610.237813\n",
       "BldgType_Twnhs          -24887.607300\n",
       "LotShape_IR3            -31765.339691\n",
       "KitchenAbvGr            -44399.066444\n",
       "Exterior1st_ImStucc     -54895.225279\n",
       "Length: 200, dtype: float64"
      ]
     },
     "metadata": {},
     "output_type": "display_data"
    }
   ],
   "source": [
    "# Check Lasso Coefficients\n",
    "lasso_coefs = eval_coefficients(lasso_v2, model_cols)"
   ]
  },
  {
   "cell_type": "markdown",
   "metadata": {},
   "source": [
    "- Training score getting a little bit worse but testing score matches it => not over learning\n",
    "- More contrained and readable"
   ]
  },
  {
   "cell_type": "markdown",
   "metadata": {},
   "source": [
    "### Ridge\n",
    "- deal better for multicollinearity"
   ]
  },
  {
   "cell_type": "code",
   "execution_count": 29,
   "metadata": {
    "scrolled": true
   },
   "outputs": [
    {
     "name": "stdout",
     "output_type": "stream",
     "text": [
      "Train R2: 0.8887013079926787\n",
      "Test R2: 0.8668141030170738\n",
      "*****\n",
      "Train MSE: 675743901.6347734\n",
      "Test MSE: 933008369.778425\n",
      "*****\n",
      "Train RMSE: 25995.074564901202\n",
      "Test RMSE: 30545.18570541723\n"
     ]
    }
   ],
   "source": [
    "from sklearn.linear_model import Ridge\n",
    "\n",
    "ridge = Ridge() # Ridge is also known as the L2 norm\n",
    "\n",
    "# Fit\n",
    "ridge.fit(X_train_all, y_train)\n",
    "\n",
    "# Predict\n",
    "r_train_preds = ridge.predict(X_train_all)\n",
    "r_test_preds = ridge.predict(X_test_all)\n",
    "\n",
    "\n",
    "# Evaluate\n",
    "evaluate(y_train, r_train_preds, y_test, r_test_preds)"
   ]
  },
  {
   "cell_type": "code",
   "execution_count": 30,
   "metadata": {},
   "outputs": [
    {
     "name": "stdout",
     "output_type": "stream",
     "text": [
      "Train R2: 0.8816228437958735\n",
      "Test R2: 0.8658942423728896\n",
      "*****\n",
      "Train MSE: 718720408.6148962\n",
      "Test MSE: 939452277.8760194\n",
      "*****\n",
      "Train RMSE: 26808.961349050736\n",
      "Test RMSE: 30650.485769005674\n"
     ]
    }
   ],
   "source": [
    "# Adjust HYPERPARAMETERS\n",
    "ridge = Ridge(alpha=5)\n",
    "\n",
    "ridge.fit(X_train_all, y_train)\n",
    "\n",
    "r_train_preds = ridge.predict(X_train_all)\n",
    "r_test_preds = ridge.predict(X_test_all)\n",
    "\n",
    "evaluate(y_train, r_train_preds, y_test, r_test_preds)"
   ]
  },
  {
   "cell_type": "code",
   "execution_count": 31,
   "metadata": {},
   "outputs": [
    {
     "name": "stdout",
     "output_type": "stream",
     "text": [
      "Total number of coefficients:  200\n",
      "Coefficients close to zero:  0\n",
      "Intercept: 19532.59058687676\n"
     ]
    },
    {
     "data": {
      "text/plain": [
       "OverallQual             56677.063670\n",
       "2ndFlrSF                50632.302560\n",
       "GrLivArea               43975.219016\n",
       "Neighborhood_StoneBr    39737.296291\n",
       "Neighborhood_NoRidge    37688.530485\n",
       "                            ...     \n",
       "Neighborhood_OldTown   -13479.540465\n",
       "KitchenAbvGr           -13974.639202\n",
       "Neighborhood_Mitchel   -15485.495773\n",
       "LotShape_IR3           -15668.899146\n",
       "Neighborhood_Edwards   -20190.545360\n",
       "Length: 200, dtype: float64"
      ]
     },
     "metadata": {},
     "output_type": "display_data"
    }
   ],
   "source": [
    "# Check Ridge Coefficients\n",
    "ridge_coefs = eval_coefficients(ridge, model_cols)"
   ]
  },
  {
   "cell_type": "code",
   "execution_count": 32,
   "metadata": {},
   "outputs": [
    {
     "data": {
      "text/html": [
       "<div>\n",
       "<style scoped>\n",
       "    .dataframe tbody tr th:only-of-type {\n",
       "        vertical-align: middle;\n",
       "    }\n",
       "\n",
       "    .dataframe tbody tr th {\n",
       "        vertical-align: top;\n",
       "    }\n",
       "\n",
       "    .dataframe thead th {\n",
       "        text-align: right;\n",
       "    }\n",
       "</style>\n",
       "<table border=\"1\" class=\"dataframe\">\n",
       "  <thead>\n",
       "    <tr style=\"text-align: right;\">\n",
       "      <th></th>\n",
       "      <th>0</th>\n",
       "      <th>1</th>\n",
       "      <th>2</th>\n",
       "      <th>3</th>\n",
       "      <th>4</th>\n",
       "      <th>5</th>\n",
       "      <th>6</th>\n",
       "      <th>7</th>\n",
       "      <th>8</th>\n",
       "      <th>9</th>\n",
       "      <th>...</th>\n",
       "      <th>GarageType_Attchd</th>\n",
       "      <th>GarageType_Basment</th>\n",
       "      <th>GarageType_BuiltIn</th>\n",
       "      <th>GarageType_CarPort</th>\n",
       "      <th>GarageType_Detchd</th>\n",
       "      <th>GarageType_missing</th>\n",
       "      <th>GarageFinish_Fin</th>\n",
       "      <th>GarageFinish_RFn</th>\n",
       "      <th>GarageFinish_Unf</th>\n",
       "      <th>GarageFinish_missing</th>\n",
       "    </tr>\n",
       "  </thead>\n",
       "  <tbody>\n",
       "    <tr>\n",
       "      <th>0</th>\n",
       "      <td>1.000000</td>\n",
       "      <td>-0.114885</td>\n",
       "      <td>0.033643</td>\n",
       "      <td>-0.051452</td>\n",
       "      <td>0.000084</td>\n",
       "      <td>0.029745</td>\n",
       "      <td>-0.013149</td>\n",
       "      <td>-0.074653</td>\n",
       "      <td>-0.065171</td>\n",
       "      <td>-0.134089</td>\n",
       "      <td>...</td>\n",
       "      <td>-0.167395</td>\n",
       "      <td>0.068825</td>\n",
       "      <td>0.079729</td>\n",
       "      <td>0.032320</td>\n",
       "      <td>0.083048</td>\n",
       "      <td>0.056668</td>\n",
       "      <td>-0.005776</td>\n",
       "      <td>-0.039089</td>\n",
       "      <td>0.015414</td>\n",
       "      <td>0.056668</td>\n",
       "    </tr>\n",
       "    <tr>\n",
       "      <th>1</th>\n",
       "      <td>-0.114885</td>\n",
       "      <td>1.000000</td>\n",
       "      <td>0.099322</td>\n",
       "      <td>0.003762</td>\n",
       "      <td>0.009906</td>\n",
       "      <td>0.019718</td>\n",
       "      <td>0.127069</td>\n",
       "      <td>0.229307</td>\n",
       "      <td>0.126493</td>\n",
       "      <td>-0.016504</td>\n",
       "      <td>...</td>\n",
       "      <td>0.117571</td>\n",
       "      <td>-0.007379</td>\n",
       "      <td>0.027619</td>\n",
       "      <td>0.007353</td>\n",
       "      <td>-0.117884</td>\n",
       "      <td>-0.068886</td>\n",
       "      <td>0.104782</td>\n",
       "      <td>0.014525</td>\n",
       "      <td>-0.073553</td>\n",
       "      <td>-0.068886</td>\n",
       "    </tr>\n",
       "    <tr>\n",
       "      <th>2</th>\n",
       "      <td>0.033643</td>\n",
       "      <td>0.099322</td>\n",
       "      <td>1.000000</td>\n",
       "      <td>-0.083437</td>\n",
       "      <td>0.562225</td>\n",
       "      <td>0.544446</td>\n",
       "      <td>0.424824</td>\n",
       "      <td>0.210886</td>\n",
       "      <td>-0.046931</td>\n",
       "      <td>0.328416</td>\n",
       "      <td>...</td>\n",
       "      <td>0.342532</td>\n",
       "      <td>-0.022689</td>\n",
       "      <td>0.200976</td>\n",
       "      <td>-0.099880</td>\n",
       "      <td>-0.325294</td>\n",
       "      <td>-0.261229</td>\n",
       "      <td>0.383563</td>\n",
       "      <td>0.213486</td>\n",
       "      <td>-0.413493</td>\n",
       "      <td>-0.261229</td>\n",
       "    </tr>\n",
       "    <tr>\n",
       "      <th>3</th>\n",
       "      <td>-0.051452</td>\n",
       "      <td>0.003762</td>\n",
       "      <td>-0.083437</td>\n",
       "      <td>1.000000</td>\n",
       "      <td>-0.380957</td>\n",
       "      <td>0.046364</td>\n",
       "      <td>-0.138211</td>\n",
       "      <td>-0.043705</td>\n",
       "      <td>0.055532</td>\n",
       "      <td>-0.148196</td>\n",
       "      <td>...</td>\n",
       "      <td>-0.125329</td>\n",
       "      <td>-0.010919</td>\n",
       "      <td>-0.055347</td>\n",
       "      <td>-0.020579</td>\n",
       "      <td>0.196266</td>\n",
       "      <td>-0.018464</td>\n",
       "      <td>-0.128902</td>\n",
       "      <td>-0.084744</td>\n",
       "      <td>0.199375</td>\n",
       "      <td>-0.018464</td>\n",
       "    </tr>\n",
       "    <tr>\n",
       "      <th>4</th>\n",
       "      <td>0.000084</td>\n",
       "      <td>0.009906</td>\n",
       "      <td>0.562225</td>\n",
       "      <td>-0.380957</td>\n",
       "      <td>1.000000</td>\n",
       "      <td>0.597193</td>\n",
       "      <td>0.320719</td>\n",
       "      <td>0.225073</td>\n",
       "      <td>-0.052704</td>\n",
       "      <td>0.181246</td>\n",
       "      <td>...</td>\n",
       "      <td>0.462264</td>\n",
       "      <td>-0.039453</td>\n",
       "      <td>0.198728</td>\n",
       "      <td>-0.068080</td>\n",
       "      <td>-0.485023</td>\n",
       "      <td>-0.215428</td>\n",
       "      <td>0.382807</td>\n",
       "      <td>0.322288</td>\n",
       "      <td>-0.534387</td>\n",
       "      <td>-0.215428</td>\n",
       "    </tr>\n",
       "    <tr>\n",
       "      <th>...</th>\n",
       "      <td>...</td>\n",
       "      <td>...</td>\n",
       "      <td>...</td>\n",
       "      <td>...</td>\n",
       "      <td>...</td>\n",
       "      <td>...</td>\n",
       "      <td>...</td>\n",
       "      <td>...</td>\n",
       "      <td>...</td>\n",
       "      <td>...</td>\n",
       "      <td>...</td>\n",
       "      <td>...</td>\n",
       "      <td>...</td>\n",
       "      <td>...</td>\n",
       "      <td>...</td>\n",
       "      <td>...</td>\n",
       "      <td>...</td>\n",
       "      <td>...</td>\n",
       "      <td>...</td>\n",
       "      <td>...</td>\n",
       "      <td>...</td>\n",
       "    </tr>\n",
       "    <tr>\n",
       "      <th>GarageType_missing</th>\n",
       "      <td>0.056668</td>\n",
       "      <td>-0.068886</td>\n",
       "      <td>-0.261229</td>\n",
       "      <td>-0.018464</td>\n",
       "      <td>-0.215428</td>\n",
       "      <td>-0.092199</td>\n",
       "      <td>-0.118816</td>\n",
       "      <td>-0.095614</td>\n",
       "      <td>-0.062527</td>\n",
       "      <td>-0.064328</td>\n",
       "      <td>...</td>\n",
       "      <td>-0.286367</td>\n",
       "      <td>-0.027871</td>\n",
       "      <td>-0.061330</td>\n",
       "      <td>-0.018970</td>\n",
       "      <td>-0.141614</td>\n",
       "      <td>1.000000</td>\n",
       "      <td>-0.134297</td>\n",
       "      <td>-0.152302</td>\n",
       "      <td>-0.197166</td>\n",
       "      <td>1.000000</td>\n",
       "    </tr>\n",
       "    <tr>\n",
       "      <th>GarageFinish_Fin</th>\n",
       "      <td>-0.005776</td>\n",
       "      <td>0.104782</td>\n",
       "      <td>0.383563</td>\n",
       "      <td>-0.128902</td>\n",
       "      <td>0.382807</td>\n",
       "      <td>0.328394</td>\n",
       "      <td>0.181602</td>\n",
       "      <td>0.197135</td>\n",
       "      <td>-0.032383</td>\n",
       "      <td>0.063264</td>\n",
       "      <td>...</td>\n",
       "      <td>0.200399</td>\n",
       "      <td>0.006266</td>\n",
       "      <td>0.246612</td>\n",
       "      <td>-0.045549</td>\n",
       "      <td>-0.282130</td>\n",
       "      <td>-0.134297</td>\n",
       "      <td>1.000000</td>\n",
       "      <td>-0.365698</td>\n",
       "      <td>-0.473421</td>\n",
       "      <td>-0.134297</td>\n",
       "    </tr>\n",
       "    <tr>\n",
       "      <th>GarageFinish_RFn</th>\n",
       "      <td>-0.039089</td>\n",
       "      <td>0.014525</td>\n",
       "      <td>0.213486</td>\n",
       "      <td>-0.084744</td>\n",
       "      <td>0.322288</td>\n",
       "      <td>0.202104</td>\n",
       "      <td>0.145028</td>\n",
       "      <td>0.048799</td>\n",
       "      <td>0.016474</td>\n",
       "      <td>0.107660</td>\n",
       "      <td>...</td>\n",
       "      <td>0.376571</td>\n",
       "      <td>0.010403</td>\n",
       "      <td>-0.001877</td>\n",
       "      <td>-0.051656</td>\n",
       "      <td>-0.335555</td>\n",
       "      <td>-0.152302</td>\n",
       "      <td>-0.365698</td>\n",
       "      <td>1.000000</td>\n",
       "      <td>-0.536894</td>\n",
       "      <td>-0.152302</td>\n",
       "    </tr>\n",
       "    <tr>\n",
       "      <th>GarageFinish_Unf</th>\n",
       "      <td>0.015414</td>\n",
       "      <td>-0.073553</td>\n",
       "      <td>-0.413493</td>\n",
       "      <td>0.199375</td>\n",
       "      <td>-0.534387</td>\n",
       "      <td>-0.431765</td>\n",
       "      <td>-0.238665</td>\n",
       "      <td>-0.173731</td>\n",
       "      <td>0.041498</td>\n",
       "      <td>-0.125579</td>\n",
       "      <td>...</td>\n",
       "      <td>-0.393074</td>\n",
       "      <td>-0.002407</td>\n",
       "      <td>-0.185635</td>\n",
       "      <td>0.096212</td>\n",
       "      <td>0.621357</td>\n",
       "      <td>-0.197166</td>\n",
       "      <td>-0.473421</td>\n",
       "      <td>-0.536894</td>\n",
       "      <td>1.000000</td>\n",
       "      <td>-0.197166</td>\n",
       "    </tr>\n",
       "    <tr>\n",
       "      <th>GarageFinish_missing</th>\n",
       "      <td>0.056668</td>\n",
       "      <td>-0.068886</td>\n",
       "      <td>-0.261229</td>\n",
       "      <td>-0.018464</td>\n",
       "      <td>-0.215428</td>\n",
       "      <td>-0.092199</td>\n",
       "      <td>-0.118816</td>\n",
       "      <td>-0.095614</td>\n",
       "      <td>-0.062527</td>\n",
       "      <td>-0.064328</td>\n",
       "      <td>...</td>\n",
       "      <td>-0.286367</td>\n",
       "      <td>-0.027871</td>\n",
       "      <td>-0.061330</td>\n",
       "      <td>-0.018970</td>\n",
       "      <td>-0.141614</td>\n",
       "      <td>1.000000</td>\n",
       "      <td>-0.134297</td>\n",
       "      <td>-0.152302</td>\n",
       "      <td>-0.197166</td>\n",
       "      <td>1.000000</td>\n",
       "    </tr>\n",
       "  </tbody>\n",
       "</table>\n",
       "<p>200 rows × 200 columns</p>\n",
       "</div>"
      ],
      "text/plain": [
       "                             0         1         2         3         4  \\\n",
       "0                     1.000000 -0.114885  0.033643 -0.051452  0.000084   \n",
       "1                    -0.114885  1.000000  0.099322  0.003762  0.009906   \n",
       "2                     0.033643  0.099322  1.000000 -0.083437  0.562225   \n",
       "3                    -0.051452  0.003762 -0.083437  1.000000 -0.380957   \n",
       "4                     0.000084  0.009906  0.562225 -0.380957  1.000000   \n",
       "...                        ...       ...       ...       ...       ...   \n",
       "GarageType_missing    0.056668 -0.068886 -0.261229 -0.018464 -0.215428   \n",
       "GarageFinish_Fin     -0.005776  0.104782  0.383563 -0.128902  0.382807   \n",
       "GarageFinish_RFn     -0.039089  0.014525  0.213486 -0.084744  0.322288   \n",
       "GarageFinish_Unf      0.015414 -0.073553 -0.413493  0.199375 -0.534387   \n",
       "GarageFinish_missing  0.056668 -0.068886 -0.261229 -0.018464 -0.215428   \n",
       "\n",
       "                             5         6         7         8         9  ...  \\\n",
       "0                     0.029745 -0.013149 -0.074653 -0.065171 -0.134089  ...   \n",
       "1                     0.019718  0.127069  0.229307  0.126493 -0.016504  ...   \n",
       "2                     0.544446  0.424824  0.210886 -0.046931  0.328416  ...   \n",
       "3                     0.046364 -0.138211 -0.043705  0.055532 -0.148196  ...   \n",
       "4                     0.597193  0.320719  0.225073 -0.052704  0.181246  ...   \n",
       "...                        ...       ...       ...       ...       ...  ...   \n",
       "GarageType_missing   -0.092199 -0.118816 -0.095614 -0.062527 -0.064328  ...   \n",
       "GarageFinish_Fin      0.328394  0.181602  0.197135 -0.032383  0.063264  ...   \n",
       "GarageFinish_RFn      0.202104  0.145028  0.048799  0.016474  0.107660  ...   \n",
       "GarageFinish_Unf     -0.431765 -0.238665 -0.173731  0.041498 -0.125579  ...   \n",
       "GarageFinish_missing -0.092199 -0.118816 -0.095614 -0.062527 -0.064328  ...   \n",
       "\n",
       "                      GarageType_Attchd  GarageType_Basment  \\\n",
       "0                             -0.167395            0.068825   \n",
       "1                              0.117571           -0.007379   \n",
       "2                              0.342532           -0.022689   \n",
       "3                             -0.125329           -0.010919   \n",
       "4                              0.462264           -0.039453   \n",
       "...                                 ...                 ...   \n",
       "GarageType_missing            -0.286367           -0.027871   \n",
       "GarageFinish_Fin               0.200399            0.006266   \n",
       "GarageFinish_RFn               0.376571            0.010403   \n",
       "GarageFinish_Unf              -0.393074           -0.002407   \n",
       "GarageFinish_missing          -0.286367           -0.027871   \n",
       "\n",
       "                      GarageType_BuiltIn  GarageType_CarPort  \\\n",
       "0                               0.079729            0.032320   \n",
       "1                               0.027619            0.007353   \n",
       "2                               0.200976           -0.099880   \n",
       "3                              -0.055347           -0.020579   \n",
       "4                               0.198728           -0.068080   \n",
       "...                                  ...                 ...   \n",
       "GarageType_missing             -0.061330           -0.018970   \n",
       "GarageFinish_Fin                0.246612           -0.045549   \n",
       "GarageFinish_RFn               -0.001877           -0.051656   \n",
       "GarageFinish_Unf               -0.185635            0.096212   \n",
       "GarageFinish_missing           -0.061330           -0.018970   \n",
       "\n",
       "                      GarageType_Detchd  GarageType_missing  GarageFinish_Fin  \\\n",
       "0                              0.083048            0.056668         -0.005776   \n",
       "1                             -0.117884           -0.068886          0.104782   \n",
       "2                             -0.325294           -0.261229          0.383563   \n",
       "3                              0.196266           -0.018464         -0.128902   \n",
       "4                             -0.485023           -0.215428          0.382807   \n",
       "...                                 ...                 ...               ...   \n",
       "GarageType_missing            -0.141614            1.000000         -0.134297   \n",
       "GarageFinish_Fin              -0.282130           -0.134297          1.000000   \n",
       "GarageFinish_RFn              -0.335555           -0.152302         -0.365698   \n",
       "GarageFinish_Unf               0.621357           -0.197166         -0.473421   \n",
       "GarageFinish_missing          -0.141614            1.000000         -0.134297   \n",
       "\n",
       "                      GarageFinish_RFn  GarageFinish_Unf  GarageFinish_missing  \n",
       "0                            -0.039089          0.015414              0.056668  \n",
       "1                             0.014525         -0.073553             -0.068886  \n",
       "2                             0.213486         -0.413493             -0.261229  \n",
       "3                            -0.084744          0.199375             -0.018464  \n",
       "4                             0.322288         -0.534387             -0.215428  \n",
       "...                                ...               ...                   ...  \n",
       "GarageType_missing           -0.152302         -0.197166              1.000000  \n",
       "GarageFinish_Fin             -0.365698         -0.473421             -0.134297  \n",
       "GarageFinish_RFn              1.000000         -0.536894             -0.152302  \n",
       "GarageFinish_Unf             -0.536894          1.000000             -0.197166  \n",
       "GarageFinish_missing         -0.152302         -0.197166              1.000000  \n",
       "\n",
       "[200 rows x 200 columns]"
      ]
     },
     "execution_count": 32,
     "metadata": {},
     "output_type": "execute_result"
    }
   ],
   "source": [
    "X_train_all.corr()"
   ]
  },
  {
   "cell_type": "markdown",
   "metadata": {},
   "source": [
    "### Let's Discuss\n",
    "\n",
    "- For Ridge non of the coefficients is constrained to 0\n",
    "- If have mulicollinearity in data, constrain certain coefficients\n",
    "- (If two features are driving in the same trend in y, one of the feature is constrained and allow the other one to catch up)\n",
    "- Help better differentiate which one is the driving change of y"
   ]
  },
  {
   "cell_type": "markdown",
   "metadata": {},
   "source": [
    "## Ridge & Lasso: Other benefits\n",
    "\n",
    "### Ridge:\n",
    "* We can \"shrink down\" prediction variables effects instead of deleting/zeroing them\n",
    "* When you have features with high multicollinearity, the coefficients are automatically spread across them (you won't have redundancy)\n",
    "* Since includes all features it can be computationally expensive (for many variables)\n",
    "\n",
    "### Lasso:\n",
    "* When you have a lot of variables it performs feature selection for you!\n",
    "* Multicollinearity is also dealt with\n"
   ]
  },
  {
   "cell_type": "markdown",
   "metadata": {},
   "source": [
    "### Por que no los dos??\n",
    "\n",
    "Enter ElasticNet: https://scikit-learn.org/stable/modules/generated/sklearn.linear_model.ElasticNet.html"
   ]
  }
 ],
 "metadata": {
  "kernelspec": {
   "display_name": "learn-env",
   "language": "python",
   "name": "learn-env"
  },
  "language_info": {
   "codemirror_mode": {
    "name": "ipython",
    "version": 3
   },
   "file_extension": ".py",
   "mimetype": "text/x-python",
   "name": "python",
   "nbconvert_exporter": "python",
   "pygments_lexer": "ipython3",
   "version": "3.6.9"
  }
 },
 "nbformat": 4,
 "nbformat_minor": 4
}
